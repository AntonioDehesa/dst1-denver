{
 "cells": [
  {
   "cell_type": "markdown",
   "id": "33a10264",
   "metadata": {},
   "source": [
    "# Loading Required Python Packages"
   ]
  },
  {
   "cell_type": "code",
   "execution_count": 361,
   "id": "cc5e0fb0",
   "metadata": {},
   "outputs": [],
   "source": [
    "# Imports\n",
    "import pandas as pd\n",
    "import numpy as np\n",
    "import requests # For the currency exchange rates\n",
    "from forex_python.converter import CurrencyRates\n",
    "from plotnine import ggplot, geom_histogram, aes, theme, guides, guide_legend\n",
    "import seaborn as sns\n",
    "from plotnine.themes.themeable import legend_position\n",
    "from sklearn.neighbors import KNeighborsClassifier\n",
    "from sklearn.ensemble import RandomForestClassifier\n",
    "import matplotlib.pyplot as plt\n",
    "#from sklearn.linear_model import LogisticRegression\n",
    "#from sklearn.preprocessing import PolynomialFeatures\n",
    "#from sklearn.linear_model import LinearRegression, Ridge, Lasso, BayesianRidge\n",
    "#import statsmodels.formula.api as smf\n",
    "#import statsmodels.api as sm"
   ]
  },
  {
   "cell_type": "markdown",
   "id": "aa23fdc2",
   "metadata": {},
   "source": [
    "# Data input, cleaning, transformation, and validation"
   ]
  },
  {
   "cell_type": "code",
   "execution_count": 362,
   "id": "1d1a2091",
   "metadata": {},
   "outputs": [],
   "source": [
    "# First, we import the data\n",
    "file = \"salary_responses.csv\"\n",
    "data = pd.read_csv(file)\n",
    "c = CurrencyRates()"
   ]
  },
  {
   "cell_type": "markdown",
   "id": "c32aced4",
   "metadata": {},
   "source": [
    "## Data cleaning, validation\n",
    "<p>We delete the columns that are not helpful for our purposes, such as timestamp, additional context for title, and for income</p>"
   ]
  },
  {
   "cell_type": "code",
   "execution_count": 363,
   "id": "fbaf9e76",
   "metadata": {},
   "outputs": [],
   "source": [
    "# Data cleaning, validation\n",
    "data = data.drop( data.columns[[0,4,9]],axis=1)\n",
    "# We now change the names of the columns to make manipulation easier\n",
    "data.columns = [\"Age\", \"Industry\", \"Job Title\", \"Annual Salary\", \"Bonus\", \n",
    "                \"Currency\", \"Alternate Currency\", \"Country\", \"US State\", \"US City\", \n",
    "                \"Work experience\", \"Work experience in field\", \"Education\", \"Gender\", \"Race\"]"
   ]
  },
  {
   "cell_type": "code",
   "execution_count": 364,
   "id": "67083478",
   "metadata": {},
   "outputs": [
    {
     "data": {
      "text/html": [
       "<div>\n",
       "<style scoped>\n",
       "    .dataframe tbody tr th:only-of-type {\n",
       "        vertical-align: middle;\n",
       "    }\n",
       "\n",
       "    .dataframe tbody tr th {\n",
       "        vertical-align: top;\n",
       "    }\n",
       "\n",
       "    .dataframe thead th {\n",
       "        text-align: right;\n",
       "    }\n",
       "</style>\n",
       "<table border=\"1\" class=\"dataframe\">\n",
       "  <thead>\n",
       "    <tr style=\"text-align: right;\">\n",
       "      <th></th>\n",
       "      <th>Age</th>\n",
       "      <th>Industry</th>\n",
       "      <th>Job Title</th>\n",
       "      <th>Annual Salary</th>\n",
       "      <th>Bonus</th>\n",
       "      <th>Currency</th>\n",
       "      <th>Alternate Currency</th>\n",
       "      <th>Country</th>\n",
       "      <th>US State</th>\n",
       "      <th>US City</th>\n",
       "      <th>Work experience</th>\n",
       "      <th>Work experience in field</th>\n",
       "      <th>Education</th>\n",
       "      <th>Gender</th>\n",
       "      <th>Race</th>\n",
       "    </tr>\n",
       "  </thead>\n",
       "  <tbody>\n",
       "    <tr>\n",
       "      <th>22975</th>\n",
       "      <td>25-34</td>\n",
       "      <td>Law</td>\n",
       "      <td>Supervising Attorney</td>\n",
       "      <td>62551</td>\n",
       "      <td>NaN</td>\n",
       "      <td>USD</td>\n",
       "      <td>NaN</td>\n",
       "      <td>USA</td>\n",
       "      <td>Wisconsin</td>\n",
       "      <td>Milwaukee</td>\n",
       "      <td>8 - 10 years</td>\n",
       "      <td>8 - 10 years</td>\n",
       "      <td>Professional degree (MD, JD, etc.)</td>\n",
       "      <td>Woman</td>\n",
       "      <td>White</td>\n",
       "    </tr>\n",
       "    <tr>\n",
       "      <th>27381</th>\n",
       "      <td>25-34</td>\n",
       "      <td>Transport or Logistics</td>\n",
       "      <td>Driver</td>\n",
       "      <td>52000</td>\n",
       "      <td>0.0</td>\n",
       "      <td>CAD</td>\n",
       "      <td>NaN</td>\n",
       "      <td>Canada</td>\n",
       "      <td>NaN</td>\n",
       "      <td>Perth</td>\n",
       "      <td>11 - 20 years</td>\n",
       "      <td>1 year or less</td>\n",
       "      <td>Some college</td>\n",
       "      <td>Man</td>\n",
       "      <td>White</td>\n",
       "    </tr>\n",
       "    <tr>\n",
       "      <th>12812</th>\n",
       "      <td>25-34</td>\n",
       "      <td>Education (Higher Education)</td>\n",
       "      <td>Research administrator</td>\n",
       "      <td>60,000</td>\n",
       "      <td>NaN</td>\n",
       "      <td>USD</td>\n",
       "      <td>NaN</td>\n",
       "      <td>USA</td>\n",
       "      <td>Illinois</td>\n",
       "      <td>Evanston</td>\n",
       "      <td>5-7 years</td>\n",
       "      <td>5-7 years</td>\n",
       "      <td>College degree</td>\n",
       "      <td>Woman</td>\n",
       "      <td>White</td>\n",
       "    </tr>\n",
       "    <tr>\n",
       "      <th>21247</th>\n",
       "      <td>35-44</td>\n",
       "      <td>Accounting, Banking &amp; Finance</td>\n",
       "      <td>Accountant</td>\n",
       "      <td>51000</td>\n",
       "      <td>0.0</td>\n",
       "      <td>USD</td>\n",
       "      <td>NaN</td>\n",
       "      <td>USA</td>\n",
       "      <td>North Carolina</td>\n",
       "      <td>Morrisville</td>\n",
       "      <td>21 - 30 years</td>\n",
       "      <td>11 - 20 years</td>\n",
       "      <td>College degree</td>\n",
       "      <td>Woman</td>\n",
       "      <td>White</td>\n",
       "    </tr>\n",
       "    <tr>\n",
       "      <th>18424</th>\n",
       "      <td>35-44</td>\n",
       "      <td>Computing or Tech</td>\n",
       "      <td>Senior Engineer</td>\n",
       "      <td>150,000</td>\n",
       "      <td>NaN</td>\n",
       "      <td>USD</td>\n",
       "      <td>NaN</td>\n",
       "      <td>United States</td>\n",
       "      <td>Oregon</td>\n",
       "      <td>Portland</td>\n",
       "      <td>8 - 10 years</td>\n",
       "      <td>8 - 10 years</td>\n",
       "      <td>College degree</td>\n",
       "      <td>Man</td>\n",
       "      <td>White</td>\n",
       "    </tr>\n",
       "    <tr>\n",
       "      <th>12137</th>\n",
       "      <td>25-34</td>\n",
       "      <td>AmeriCorps</td>\n",
       "      <td>Americorps Member</td>\n",
       "      <td>15,400</td>\n",
       "      <td>NaN</td>\n",
       "      <td>USD</td>\n",
       "      <td>NaN</td>\n",
       "      <td>United States</td>\n",
       "      <td>Massachusetts</td>\n",
       "      <td>Boston</td>\n",
       "      <td>5-7 years</td>\n",
       "      <td>1 year or less</td>\n",
       "      <td>Master's degree</td>\n",
       "      <td>Woman</td>\n",
       "      <td>White</td>\n",
       "    </tr>\n",
       "    <tr>\n",
       "      <th>3667</th>\n",
       "      <td>35-44</td>\n",
       "      <td>Energy</td>\n",
       "      <td>Geologist</td>\n",
       "      <td>173,000</td>\n",
       "      <td>20000.0</td>\n",
       "      <td>USD</td>\n",
       "      <td>NaN</td>\n",
       "      <td>United States</td>\n",
       "      <td>Texas</td>\n",
       "      <td>Houston</td>\n",
       "      <td>11 - 20 years</td>\n",
       "      <td>11 - 20 years</td>\n",
       "      <td>Master's degree</td>\n",
       "      <td>Woman</td>\n",
       "      <td>White</td>\n",
       "    </tr>\n",
       "    <tr>\n",
       "      <th>13418</th>\n",
       "      <td>35-44</td>\n",
       "      <td>Education (Higher Education)</td>\n",
       "      <td>Assistant Director, Professional School</td>\n",
       "      <td>66,000</td>\n",
       "      <td>10000.0</td>\n",
       "      <td>USD</td>\n",
       "      <td>NaN</td>\n",
       "      <td>USA</td>\n",
       "      <td>NaN</td>\n",
       "      <td>Prefer not to answer</td>\n",
       "      <td>11 - 20 years</td>\n",
       "      <td>5-7 years</td>\n",
       "      <td>Professional degree (MD, JD, etc.)</td>\n",
       "      <td>Woman</td>\n",
       "      <td>NaN</td>\n",
       "    </tr>\n",
       "    <tr>\n",
       "      <th>18870</th>\n",
       "      <td>25-34</td>\n",
       "      <td>Education (Higher Education)</td>\n",
       "      <td>Assistant librarian</td>\n",
       "      <td>25,000</td>\n",
       "      <td>0.0</td>\n",
       "      <td>GBP</td>\n",
       "      <td>NaN</td>\n",
       "      <td>UK</td>\n",
       "      <td>NaN</td>\n",
       "      <td>Oxford, UK</td>\n",
       "      <td>11 - 20 years</td>\n",
       "      <td>11 - 20 years</td>\n",
       "      <td>Master's degree</td>\n",
       "      <td>Woman</td>\n",
       "      <td>White</td>\n",
       "    </tr>\n",
       "    <tr>\n",
       "      <th>2530</th>\n",
       "      <td>18-24</td>\n",
       "      <td>Insurance</td>\n",
       "      <td>Licensed Sales Professional</td>\n",
       "      <td>31,200</td>\n",
       "      <td>300.0</td>\n",
       "      <td>USD</td>\n",
       "      <td>NaN</td>\n",
       "      <td>United States</td>\n",
       "      <td>Oklahoma</td>\n",
       "      <td>Altus</td>\n",
       "      <td>2 - 4 years</td>\n",
       "      <td>2 - 4 years</td>\n",
       "      <td>College degree</td>\n",
       "      <td>Woman</td>\n",
       "      <td>White</td>\n",
       "    </tr>\n",
       "  </tbody>\n",
       "</table>\n",
       "</div>"
      ],
      "text/plain": [
       "         Age                       Industry  \\\n",
       "22975  25-34                            Law   \n",
       "27381  25-34         Transport or Logistics   \n",
       "12812  25-34   Education (Higher Education)   \n",
       "21247  35-44  Accounting, Banking & Finance   \n",
       "18424  35-44              Computing or Tech   \n",
       "12137  25-34                     AmeriCorps   \n",
       "3667   35-44                         Energy   \n",
       "13418  35-44   Education (Higher Education)   \n",
       "18870  25-34   Education (Higher Education)   \n",
       "2530   18-24                      Insurance   \n",
       "\n",
       "                                     Job Title Annual Salary    Bonus  \\\n",
       "22975                    Supervising Attorney          62551      NaN   \n",
       "27381                                   Driver         52000      0.0   \n",
       "12812                   Research administrator        60,000      NaN   \n",
       "21247                               Accountant         51000      0.0   \n",
       "18424                         Senior Engineer        150,000      NaN   \n",
       "12137                        Americorps Member        15,400      NaN   \n",
       "3667                                 Geologist       173,000  20000.0   \n",
       "13418  Assistant Director, Professional School        66,000  10000.0   \n",
       "18870                      Assistant librarian        25,000      0.0   \n",
       "2530               Licensed Sales Professional        31,200    300.0   \n",
       "\n",
       "      Currency Alternate Currency        Country        US State  \\\n",
       "22975      USD                NaN            USA       Wisconsin   \n",
       "27381      CAD                NaN         Canada             NaN   \n",
       "12812      USD                NaN            USA        Illinois   \n",
       "21247      USD                NaN            USA  North Carolina   \n",
       "18424      USD                NaN  United States          Oregon   \n",
       "12137      USD                NaN  United States   Massachusetts   \n",
       "3667       USD                NaN  United States           Texas   \n",
       "13418      USD                NaN            USA             NaN   \n",
       "18870      GBP                NaN             UK             NaN   \n",
       "2530       USD                NaN  United States        Oklahoma   \n",
       "\n",
       "                    US City Work experience Work experience in field  \\\n",
       "22975            Milwaukee     8 - 10 years             8 - 10 years   \n",
       "27381                Perth    11 - 20 years           1 year or less   \n",
       "12812              Evanston       5-7 years                5-7 years   \n",
       "21247           Morrisville   21 - 30 years            11 - 20 years   \n",
       "18424              Portland    8 - 10 years             8 - 10 years   \n",
       "12137                Boston       5-7 years           1 year or less   \n",
       "3667                Houston   11 - 20 years            11 - 20 years   \n",
       "13418  Prefer not to answer   11 - 20 years                5-7 years   \n",
       "18870            Oxford, UK   11 - 20 years            11 - 20 years   \n",
       "2530                  Altus     2 - 4 years              2 - 4 years   \n",
       "\n",
       "                                Education Gender   Race  \n",
       "22975  Professional degree (MD, JD, etc.)  Woman  White  \n",
       "27381                        Some college    Man  White  \n",
       "12812                      College degree  Woman  White  \n",
       "21247                      College degree  Woman  White  \n",
       "18424                      College degree    Man  White  \n",
       "12137                     Master's degree  Woman  White  \n",
       "3667                      Master's degree  Woman  White  \n",
       "13418  Professional degree (MD, JD, etc.)  Woman    NaN  \n",
       "18870                     Master's degree  Woman  White  \n",
       "2530                       College degree  Woman  White  "
      ]
     },
     "execution_count": 364,
     "metadata": {},
     "output_type": "execute_result"
    }
   ],
   "source": [
    "data.sample(10)"
   ]
  },
  {
   "cell_type": "markdown",
   "id": "71a26e18",
   "metadata": {},
   "source": [
    "### Missing Values\n",
    "<p>Here we explore the fields with missing values to help us decide on how to treat those going forward. </p>\n",
    "\n",
    "It is evident from the, **attribute list**  and **heat map**, below, that `Alternate Currency`, `Bonus`, `US State`,`US City`,`Education,Gender` as well as `Race` all have missing values."
   ]
  },
  {
   "cell_type": "code",
   "execution_count": 365,
   "id": "c303459f",
   "metadata": {
    "scrolled": true
   },
   "outputs": [
    {
     "data": {
      "text/plain": [
       "Age                             0\n",
       "Industry                       72\n",
       "Job Title                       0\n",
       "Annual Salary                   0\n",
       "Bonus                        7263\n",
       "Currency                        0\n",
       "Alternate Currency          27770\n",
       "Country                         0\n",
       "US State                     4990\n",
       "US City                        75\n",
       "Work experience                 0\n",
       "Work experience in field        0\n",
       "Education                     215\n",
       "Gender                        167\n",
       "Race                          169\n",
       "dtype: int64"
      ]
     },
     "execution_count": 365,
     "metadata": {},
     "output_type": "execute_result"
    }
   ],
   "source": [
    "data.isna().sum()"
   ]
  },
  {
   "cell_type": "markdown",
   "id": "88e52d73",
   "metadata": {},
   "source": [
    "#### Missing Values Heat Map Visualizing With Seaborn\n",
    "Below is a Seaborn **Heat Map** that shows columns with missing values:"
   ]
  },
  {
   "cell_type": "code",
   "execution_count": 366,
   "id": "55fdfb6f",
   "metadata": {},
   "outputs": [
    {
     "data": {
      "text/plain": [
       "<AxesSubplot:>"
      ]
     },
     "execution_count": 366,
     "metadata": {},
     "output_type": "execute_result"
    },
    {
     "data": {
      "image/png": "[encoded data removed]",
      "text/plain": [
       "<Figure size 1440x720 with 2 Axes>"
      ]
     },
     "metadata": {
      "needs_background": "light"
     },
     "output_type": "display_data"
    }
   ],
   "source": [
    "plt.figure(figsize=(20,10))\n",
    "sns.heatmap(data.isna().transpose(),cmap=\"YlGnBu\",cbar_kws={'label': 'Attributes with Missing Data'}) "
   ]
  },
  {
   "cell_type": "markdown",
   "id": "3c4d3ca6",
   "metadata": {},
   "source": [
    "### Chosing Attributes/Columns to Drop Non-Values\n",
    "**NA values** are dropped from some columns, such as `Annual Salary`, `Education`, `Race`, and `Gender`. This is because these columns or features  are useful for predictions and model creation, they cannot be used them if they are incomplete."
   ]
  },
  {
   "cell_type": "code",
   "execution_count": 367,
   "id": "089cf11d",
   "metadata": {},
   "outputs": [],
   "source": [
    "data.dropna(subset=[\"Annual Salary\", \"Education\", \"Race\", \"Gender\"], inplace=True)"
   ]
  },
  {
   "cell_type": "code",
   "execution_count": 368,
   "id": "1156bfea",
   "metadata": {
    "scrolled": true
   },
   "outputs": [
    {
     "data": {
      "text/plain": [
       "Age                             0\n",
       "Industry                       69\n",
       "Job Title                       0\n",
       "Annual Salary                   0\n",
       "Bonus                        7082\n",
       "Currency                        0\n",
       "Alternate Currency          27331\n",
       "Country                         0\n",
       "US State                     4872\n",
       "US City                        75\n",
       "Work experience                 0\n",
       "Work experience in field        0\n",
       "Education                       0\n",
       "Gender                          0\n",
       "Race                            0\n",
       "dtype: int64"
      ]
     },
     "execution_count": 368,
     "metadata": {},
     "output_type": "execute_result"
    }
   ],
   "source": [
    "data.isna().sum()"
   ]
  },
  {
   "cell_type": "code",
   "execution_count": 369,
   "id": "7508d9d7",
   "metadata": {},
   "outputs": [
    {
     "data": {
      "text/html": [
       "<div>\n",
       "<style scoped>\n",
       "    .dataframe tbody tr th:only-of-type {\n",
       "        vertical-align: middle;\n",
       "    }\n",
       "\n",
       "    .dataframe tbody tr th {\n",
       "        vertical-align: top;\n",
       "    }\n",
       "\n",
       "    .dataframe thead th {\n",
       "        text-align: right;\n",
       "    }\n",
       "</style>\n",
       "<table border=\"1\" class=\"dataframe\">\n",
       "  <thead>\n",
       "    <tr style=\"text-align: right;\">\n",
       "      <th></th>\n",
       "      <th>Age</th>\n",
       "      <th>Industry</th>\n",
       "      <th>Job Title</th>\n",
       "      <th>Annual Salary</th>\n",
       "      <th>Bonus</th>\n",
       "      <th>Currency</th>\n",
       "      <th>Alternate Currency</th>\n",
       "      <th>Country</th>\n",
       "      <th>US State</th>\n",
       "      <th>US City</th>\n",
       "      <th>Work experience</th>\n",
       "      <th>Work experience in field</th>\n",
       "      <th>Education</th>\n",
       "      <th>Gender</th>\n",
       "      <th>Race</th>\n",
       "    </tr>\n",
       "  </thead>\n",
       "  <tbody>\n",
       "    <tr>\n",
       "      <th>14138</th>\n",
       "      <td>55-64</td>\n",
       "      <td>Utilities &amp; Telecommunications</td>\n",
       "      <td>Programmer/Analyst II</td>\n",
       "      <td>78,292</td>\n",
       "      <td>8000.0</td>\n",
       "      <td>USD</td>\n",
       "      <td>NaN</td>\n",
       "      <td>USA</td>\n",
       "      <td>Washington</td>\n",
       "      <td>Kennewick</td>\n",
       "      <td>31 - 40 years</td>\n",
       "      <td>31 - 40 years</td>\n",
       "      <td>College degree</td>\n",
       "      <td>Woman</td>\n",
       "      <td>White</td>\n",
       "    </tr>\n",
       "    <tr>\n",
       "      <th>20362</th>\n",
       "      <td>45-54</td>\n",
       "      <td>Computing or Tech</td>\n",
       "      <td>Senior Software Engineering Manager</td>\n",
       "      <td>150,000</td>\n",
       "      <td>22500.0</td>\n",
       "      <td>USD</td>\n",
       "      <td>NaN</td>\n",
       "      <td>USA</td>\n",
       "      <td>Oklahoma</td>\n",
       "      <td>Oklahoma City</td>\n",
       "      <td>21 - 30 years</td>\n",
       "      <td>11 - 20 years</td>\n",
       "      <td>Master's degree</td>\n",
       "      <td>Woman</td>\n",
       "      <td>White</td>\n",
       "    </tr>\n",
       "    <tr>\n",
       "      <th>5054</th>\n",
       "      <td>25-34</td>\n",
       "      <td>Computing or Tech</td>\n",
       "      <td>Software Engineer</td>\n",
       "      <td>230,000</td>\n",
       "      <td>500000.0</td>\n",
       "      <td>USD</td>\n",
       "      <td>NaN</td>\n",
       "      <td>USA</td>\n",
       "      <td>California</td>\n",
       "      <td>San Francisco</td>\n",
       "      <td>11 - 20 years</td>\n",
       "      <td>11 - 20 years</td>\n",
       "      <td>Master's degree</td>\n",
       "      <td>Man</td>\n",
       "      <td>White</td>\n",
       "    </tr>\n",
       "    <tr>\n",
       "      <th>7874</th>\n",
       "      <td>25-34</td>\n",
       "      <td>Nonprofits</td>\n",
       "      <td>Development Director</td>\n",
       "      <td>65,000</td>\n",
       "      <td>NaN</td>\n",
       "      <td>USD</td>\n",
       "      <td>NaN</td>\n",
       "      <td>United States</td>\n",
       "      <td>Washington</td>\n",
       "      <td>Seattle</td>\n",
       "      <td>5-7 years</td>\n",
       "      <td>5-7 years</td>\n",
       "      <td>College degree</td>\n",
       "      <td>Woman</td>\n",
       "      <td>White</td>\n",
       "    </tr>\n",
       "    <tr>\n",
       "      <th>17862</th>\n",
       "      <td>18-24</td>\n",
       "      <td>Media &amp; Digital</td>\n",
       "      <td>Web Consultant</td>\n",
       "      <td>41,100</td>\n",
       "      <td>2000.0</td>\n",
       "      <td>USD</td>\n",
       "      <td>NaN</td>\n",
       "      <td>United States of America</td>\n",
       "      <td>Texas</td>\n",
       "      <td>Fort Worth</td>\n",
       "      <td>2 - 4 years</td>\n",
       "      <td>2 - 4 years</td>\n",
       "      <td>College degree</td>\n",
       "      <td>Woman</td>\n",
       "      <td>White</td>\n",
       "    </tr>\n",
       "    <tr>\n",
       "      <th>27266</th>\n",
       "      <td>25-34</td>\n",
       "      <td>Engineering or Manufacturing</td>\n",
       "      <td>Sales Director</td>\n",
       "      <td>85000</td>\n",
       "      <td>60000.0</td>\n",
       "      <td>GBP</td>\n",
       "      <td>NaN</td>\n",
       "      <td>Uk</td>\n",
       "      <td>NaN</td>\n",
       "      <td>Hertfordshire</td>\n",
       "      <td>8 - 10 years</td>\n",
       "      <td>8 - 10 years</td>\n",
       "      <td>Master's degree</td>\n",
       "      <td>Man</td>\n",
       "      <td>Asian or Asian American</td>\n",
       "    </tr>\n",
       "    <tr>\n",
       "      <th>20212</th>\n",
       "      <td>35-44</td>\n",
       "      <td>Law</td>\n",
       "      <td>Legal Counsel</td>\n",
       "      <td>93,500</td>\n",
       "      <td>0.0</td>\n",
       "      <td>CAD</td>\n",
       "      <td>NaN</td>\n",
       "      <td>Canada</td>\n",
       "      <td>NaN</td>\n",
       "      <td>Halifax</td>\n",
       "      <td>5-7 years</td>\n",
       "      <td>5-7 years</td>\n",
       "      <td>Professional degree (MD, JD, etc.)</td>\n",
       "      <td>Man</td>\n",
       "      <td>White</td>\n",
       "    </tr>\n",
       "    <tr>\n",
       "      <th>10962</th>\n",
       "      <td>25-34</td>\n",
       "      <td>Nonprofits</td>\n",
       "      <td>Executive Director</td>\n",
       "      <td>150,000</td>\n",
       "      <td>NaN</td>\n",
       "      <td>USD</td>\n",
       "      <td>NaN</td>\n",
       "      <td>United States</td>\n",
       "      <td>New York</td>\n",
       "      <td>New York</td>\n",
       "      <td>11 - 20 years</td>\n",
       "      <td>11 - 20 years</td>\n",
       "      <td>Master's degree</td>\n",
       "      <td>Woman</td>\n",
       "      <td>White</td>\n",
       "    </tr>\n",
       "    <tr>\n",
       "      <th>21539</th>\n",
       "      <td>25-34</td>\n",
       "      <td>Education (Higher Education)</td>\n",
       "      <td>Instructional Designer</td>\n",
       "      <td>77086</td>\n",
       "      <td>NaN</td>\n",
       "      <td>USD</td>\n",
       "      <td>NaN</td>\n",
       "      <td>United States</td>\n",
       "      <td>District of Columbia</td>\n",
       "      <td>Washington, DC</td>\n",
       "      <td>8 - 10 years</td>\n",
       "      <td>2 - 4 years</td>\n",
       "      <td>Master's degree</td>\n",
       "      <td>Woman</td>\n",
       "      <td>White</td>\n",
       "    </tr>\n",
       "    <tr>\n",
       "      <th>21744</th>\n",
       "      <td>18-24</td>\n",
       "      <td>Transport or Logistics</td>\n",
       "      <td>Shipping Coordinator</td>\n",
       "      <td>46000</td>\n",
       "      <td>NaN</td>\n",
       "      <td>CAD</td>\n",
       "      <td>NaN</td>\n",
       "      <td>Canada</td>\n",
       "      <td>NaN</td>\n",
       "      <td>London</td>\n",
       "      <td>2 - 4 years</td>\n",
       "      <td>2 - 4 years</td>\n",
       "      <td>Some college</td>\n",
       "      <td>Woman</td>\n",
       "      <td>White</td>\n",
       "    </tr>\n",
       "  </tbody>\n",
       "</table>\n",
       "</div>"
      ],
      "text/plain": [
       "         Age                        Industry  \\\n",
       "14138  55-64  Utilities & Telecommunications   \n",
       "20362  45-54               Computing or Tech   \n",
       "5054   25-34               Computing or Tech   \n",
       "7874   25-34                      Nonprofits   \n",
       "17862  18-24                 Media & Digital   \n",
       "27266  25-34    Engineering or Manufacturing   \n",
       "20212  35-44                             Law   \n",
       "10962  25-34                      Nonprofits   \n",
       "21539  25-34    Education (Higher Education)   \n",
       "21744  18-24          Transport or Logistics   \n",
       "\n",
       "                                 Job Title Annual Salary     Bonus Currency  \\\n",
       "14138                Programmer/Analyst II        78,292    8000.0      USD   \n",
       "20362  Senior Software Engineering Manager       150,000   22500.0      USD   \n",
       "5054                     Software Engineer       230,000  500000.0      USD   \n",
       "7874                  Development Director        65,000       NaN      USD   \n",
       "17862                       Web Consultant        41,100    2000.0      USD   \n",
       "27266                       Sales Director         85000   60000.0      GBP   \n",
       "20212                        Legal Counsel        93,500       0.0      CAD   \n",
       "10962                   Executive Director       150,000       NaN      USD   \n",
       "21539               Instructional Designer         77086       NaN      USD   \n",
       "21744                Shipping Coordinator          46000       NaN      CAD   \n",
       "\n",
       "      Alternate Currency                   Country              US State  \\\n",
       "14138                NaN                       USA            Washington   \n",
       "20362                NaN                       USA              Oklahoma   \n",
       "5054                 NaN                       USA            California   \n",
       "7874                 NaN             United States            Washington   \n",
       "17862                NaN  United States of America                 Texas   \n",
       "27266                NaN                       Uk                    NaN   \n",
       "20212                NaN                    Canada                   NaN   \n",
       "10962                NaN             United States              New York   \n",
       "21539                NaN             United States  District of Columbia   \n",
       "21744                NaN                    Canada                   NaN   \n",
       "\n",
       "              US City Work experience Work experience in field  \\\n",
       "14138       Kennewick   31 - 40 years            31 - 40 years   \n",
       "20362   Oklahoma City   21 - 30 years            11 - 20 years   \n",
       "5054    San Francisco   11 - 20 years            11 - 20 years   \n",
       "7874          Seattle       5-7 years                5-7 years   \n",
       "17862      Fort Worth     2 - 4 years              2 - 4 years   \n",
       "27266   Hertfordshire    8 - 10 years             8 - 10 years   \n",
       "20212         Halifax       5-7 years                5-7 years   \n",
       "10962        New York   11 - 20 years            11 - 20 years   \n",
       "21539  Washington, DC    8 - 10 years              2 - 4 years   \n",
       "21744         London      2 - 4 years              2 - 4 years   \n",
       "\n",
       "                                Education Gender                     Race  \n",
       "14138                      College degree  Woman                    White  \n",
       "20362                     Master's degree  Woman                    White  \n",
       "5054                      Master's degree    Man                    White  \n",
       "7874                       College degree  Woman                    White  \n",
       "17862                      College degree  Woman                    White  \n",
       "27266                     Master's degree    Man  Asian or Asian American  \n",
       "20212  Professional degree (MD, JD, etc.)    Man                    White  \n",
       "10962                     Master's degree  Woman                    White  \n",
       "21539                     Master's degree  Woman                    White  \n",
       "21744                        Some college  Woman                    White  "
      ]
     },
     "execution_count": 369,
     "metadata": {},
     "output_type": "execute_result"
    }
   ],
   "source": [
    "data.sample(10)"
   ]
  },
  {
   "cell_type": "markdown",
   "id": "ecebba80",
   "metadata": {},
   "source": [
    "### Data Imputing and Feature Engineering\n",
    "The `Annual Salary` column which will serve as the label or outcome variable is of type `string` which is not ideal for carrying out mathematical operations. So the type needs to be changed from `string` to `numeric` type.\n",
    "\n",
    "Also **NA** values in `Bonus` column are imputed with 0, since this will be added to the `Annual Salary` column. \n",
    "\n",
    "A new column `Total` was created as a sum of  `Annual Salary` and `Bonus`. Subsequently, these columns are dropped since they are no longer needed."
   ]
  },
  {
   "cell_type": "code",
   "execution_count": 370,
   "id": "aa2243ff",
   "metadata": {},
   "outputs": [
    {
     "name": "stdout",
     "output_type": "stream",
     "text": [
      "<class 'str'>\n"
     ]
    }
   ],
   "source": [
    "print(type(data[\"Annual Salary\"][0]))\n",
    "# The type for Annual Salary is string, \n",
    "data[\"Annual Salary\"] = data[\"Annual Salary\"].apply(lambda f: float(f.split()[0].replace(',', '')))\n",
    "data[\"Annual Salary\"] = data[\"Annual Salary\"].astype(float)\n",
    "\n",
    "# Now we need to change the NaN values from Bonus to 0\n",
    "data[\"Bonus\"] = data[\"Bonus\"].fillna(0)\n",
    "data[\"Total\"] = data[\"Annual Salary\"] + data[\"Bonus\"]\n",
    "\n",
    "# Drop Bonus and Annual Salary columns\n",
    "data.drop([\"Annual Salary\", \"Bonus\"], axis = 1, inplace=True)"
   ]
  },
  {
   "cell_type": "code",
   "execution_count": 371,
   "id": "f22d1f74",
   "metadata": {},
   "outputs": [
    {
     "data": {
      "text/html": [
       "<div>\n",
       "<style scoped>\n",
       "    .dataframe tbody tr th:only-of-type {\n",
       "        vertical-align: middle;\n",
       "    }\n",
       "\n",
       "    .dataframe tbody tr th {\n",
       "        vertical-align: top;\n",
       "    }\n",
       "\n",
       "    .dataframe thead th {\n",
       "        text-align: right;\n",
       "    }\n",
       "</style>\n",
       "<table border=\"1\" class=\"dataframe\">\n",
       "  <thead>\n",
       "    <tr style=\"text-align: right;\">\n",
       "      <th></th>\n",
       "      <th>Age</th>\n",
       "      <th>Industry</th>\n",
       "      <th>Job Title</th>\n",
       "      <th>Currency</th>\n",
       "      <th>Alternate Currency</th>\n",
       "      <th>Country</th>\n",
       "      <th>US State</th>\n",
       "      <th>US City</th>\n",
       "      <th>Work experience</th>\n",
       "      <th>Work experience in field</th>\n",
       "      <th>Education</th>\n",
       "      <th>Gender</th>\n",
       "      <th>Race</th>\n",
       "      <th>Total</th>\n",
       "    </tr>\n",
       "  </thead>\n",
       "  <tbody>\n",
       "    <tr>\n",
       "      <th>734</th>\n",
       "      <td>35-44</td>\n",
       "      <td>Property or Construction</td>\n",
       "      <td>Human Resources Director</td>\n",
       "      <td>USD</td>\n",
       "      <td>NaN</td>\n",
       "      <td>USA</td>\n",
       "      <td>Louisiana</td>\n",
       "      <td>Greater New Orleans Metro Region</td>\n",
       "      <td>8 - 10 years</td>\n",
       "      <td>5-7 years</td>\n",
       "      <td>College degree</td>\n",
       "      <td>Woman</td>\n",
       "      <td>Asian or Asian American, White</td>\n",
       "      <td>101000.0</td>\n",
       "    </tr>\n",
       "    <tr>\n",
       "      <th>14931</th>\n",
       "      <td>35-44</td>\n",
       "      <td>Engineering or Manufacturing</td>\n",
       "      <td>Sr. FP&amp;A Analyst</td>\n",
       "      <td>USD</td>\n",
       "      <td>NaN</td>\n",
       "      <td>USA</td>\n",
       "      <td>New Jersey, New York</td>\n",
       "      <td>Remote WFH currently</td>\n",
       "      <td>8 - 10 years</td>\n",
       "      <td>8 - 10 years</td>\n",
       "      <td>Master's degree</td>\n",
       "      <td>Woman</td>\n",
       "      <td>Asian or Asian American</td>\n",
       "      <td>145000.0</td>\n",
       "    </tr>\n",
       "    <tr>\n",
       "      <th>11681</th>\n",
       "      <td>25-34</td>\n",
       "      <td>Engineering or Manufacturing</td>\n",
       "      <td>Project engineer</td>\n",
       "      <td>USD</td>\n",
       "      <td>NaN</td>\n",
       "      <td>Usa</td>\n",
       "      <td>Pennsylvania</td>\n",
       "      <td>Philadelphia</td>\n",
       "      <td>8 - 10 years</td>\n",
       "      <td>8 - 10 years</td>\n",
       "      <td>College degree</td>\n",
       "      <td>Man</td>\n",
       "      <td>White</td>\n",
       "      <td>105000.0</td>\n",
       "    </tr>\n",
       "    <tr>\n",
       "      <th>15285</th>\n",
       "      <td>25-34</td>\n",
       "      <td>Marketing, Advertising &amp; PR</td>\n",
       "      <td>Account Manager</td>\n",
       "      <td>USD</td>\n",
       "      <td>NaN</td>\n",
       "      <td>United States</td>\n",
       "      <td>Arizona</td>\n",
       "      <td>Phoenix</td>\n",
       "      <td>5-7 years</td>\n",
       "      <td>5-7 years</td>\n",
       "      <td>College degree</td>\n",
       "      <td>Woman</td>\n",
       "      <td>White</td>\n",
       "      <td>74000.0</td>\n",
       "    </tr>\n",
       "    <tr>\n",
       "      <th>23496</th>\n",
       "      <td>35-44</td>\n",
       "      <td>Sales</td>\n",
       "      <td>Account manager</td>\n",
       "      <td>AUD/NZD</td>\n",
       "      <td>NaN</td>\n",
       "      <td>New zealand</td>\n",
       "      <td>NaN</td>\n",
       "      <td>Auckland</td>\n",
       "      <td>21 - 30 years</td>\n",
       "      <td>2 - 4 years</td>\n",
       "      <td>Master's degree</td>\n",
       "      <td>Man</td>\n",
       "      <td>Asian or Asian American</td>\n",
       "      <td>105000.0</td>\n",
       "    </tr>\n",
       "    <tr>\n",
       "      <th>25066</th>\n",
       "      <td>25-34</td>\n",
       "      <td>Law</td>\n",
       "      <td>Information Manager</td>\n",
       "      <td>GBP</td>\n",
       "      <td>NaN</td>\n",
       "      <td>United Kingdom</td>\n",
       "      <td>NaN</td>\n",
       "      <td>London</td>\n",
       "      <td>8 - 10 years</td>\n",
       "      <td>8 - 10 years</td>\n",
       "      <td>Professional degree (MD, JD, etc.)</td>\n",
       "      <td>Woman</td>\n",
       "      <td>White</td>\n",
       "      <td>73500.0</td>\n",
       "    </tr>\n",
       "    <tr>\n",
       "      <th>16635</th>\n",
       "      <td>35-44</td>\n",
       "      <td>Media &amp; Digital</td>\n",
       "      <td>Podcast Supervising Editor</td>\n",
       "      <td>USD</td>\n",
       "      <td>NaN</td>\n",
       "      <td>USA</td>\n",
       "      <td>New York</td>\n",
       "      <td>Brooklyn</td>\n",
       "      <td>11 - 20 years</td>\n",
       "      <td>11 - 20 years</td>\n",
       "      <td>Master's degree</td>\n",
       "      <td>Woman</td>\n",
       "      <td>White</td>\n",
       "      <td>165000.0</td>\n",
       "    </tr>\n",
       "    <tr>\n",
       "      <th>3428</th>\n",
       "      <td>35-44</td>\n",
       "      <td>Government and Public Administration</td>\n",
       "      <td>Office Manager</td>\n",
       "      <td>USD</td>\n",
       "      <td>NaN</td>\n",
       "      <td>US</td>\n",
       "      <td>Maine</td>\n",
       "      <td>Portland</td>\n",
       "      <td>11 - 20 years</td>\n",
       "      <td>8 - 10 years</td>\n",
       "      <td>College degree</td>\n",
       "      <td>Woman</td>\n",
       "      <td>White</td>\n",
       "      <td>37360.0</td>\n",
       "    </tr>\n",
       "    <tr>\n",
       "      <th>112</th>\n",
       "      <td>45-54</td>\n",
       "      <td>Sales</td>\n",
       "      <td>Office Manager</td>\n",
       "      <td>USD</td>\n",
       "      <td>NaN</td>\n",
       "      <td>USA</td>\n",
       "      <td>New Hampshire</td>\n",
       "      <td>Portsmouth</td>\n",
       "      <td>21 - 30 years</td>\n",
       "      <td>11 - 20 years</td>\n",
       "      <td>Master's degree</td>\n",
       "      <td>Woman</td>\n",
       "      <td>White</td>\n",
       "      <td>42000.0</td>\n",
       "    </tr>\n",
       "    <tr>\n",
       "      <th>16366</th>\n",
       "      <td>35-44</td>\n",
       "      <td>Education (Higher Education)</td>\n",
       "      <td>Sr. Administrative Coordinator I</td>\n",
       "      <td>USD</td>\n",
       "      <td>NaN</td>\n",
       "      <td>United States</td>\n",
       "      <td>Texas</td>\n",
       "      <td>College Station</td>\n",
       "      <td>21 - 30 years</td>\n",
       "      <td>21 - 30 years</td>\n",
       "      <td>Some college</td>\n",
       "      <td>Woman</td>\n",
       "      <td>White</td>\n",
       "      <td>62000.0</td>\n",
       "    </tr>\n",
       "  </tbody>\n",
       "</table>\n",
       "</div>"
      ],
      "text/plain": [
       "         Age                              Industry  \\\n",
       "734    35-44              Property or Construction   \n",
       "14931  35-44          Engineering or Manufacturing   \n",
       "11681  25-34          Engineering or Manufacturing   \n",
       "15285  25-34           Marketing, Advertising & PR   \n",
       "23496  35-44                                 Sales   \n",
       "25066  25-34                                   Law   \n",
       "16635  35-44                       Media & Digital   \n",
       "3428   35-44  Government and Public Administration   \n",
       "112    45-54                                 Sales   \n",
       "16366  35-44          Education (Higher Education)   \n",
       "\n",
       "                              Job Title Currency Alternate Currency  \\\n",
       "734            Human Resources Director      USD                NaN   \n",
       "14931                  Sr. FP&A Analyst      USD                NaN   \n",
       "11681                  Project engineer      USD                NaN   \n",
       "15285                   Account Manager      USD                NaN   \n",
       "23496                   Account manager  AUD/NZD                NaN   \n",
       "25066               Information Manager      GBP                NaN   \n",
       "16635        Podcast Supervising Editor      USD                NaN   \n",
       "3428                    Office Manager       USD                NaN   \n",
       "112                      Office Manager      USD                NaN   \n",
       "16366  Sr. Administrative Coordinator I      USD                NaN   \n",
       "\n",
       "              Country              US State                           US City  \\\n",
       "734               USA             Louisiana  Greater New Orleans Metro Region   \n",
       "14931             USA  New Jersey, New York              Remote WFH currently   \n",
       "11681             Usa          Pennsylvania                      Philadelphia   \n",
       "15285   United States               Arizona                           Phoenix   \n",
       "23496     New zealand                   NaN                         Auckland    \n",
       "25066  United Kingdom                   NaN                            London   \n",
       "16635             USA              New York                          Brooklyn   \n",
       "3428               US                 Maine                          Portland   \n",
       "112               USA         New Hampshire                        Portsmouth   \n",
       "16366   United States                 Texas                   College Station   \n",
       "\n",
       "      Work experience Work experience in field  \\\n",
       "734      8 - 10 years                5-7 years   \n",
       "14931    8 - 10 years             8 - 10 years   \n",
       "11681    8 - 10 years             8 - 10 years   \n",
       "15285       5-7 years                5-7 years   \n",
       "23496   21 - 30 years              2 - 4 years   \n",
       "25066    8 - 10 years             8 - 10 years   \n",
       "16635   11 - 20 years            11 - 20 years   \n",
       "3428    11 - 20 years             8 - 10 years   \n",
       "112     21 - 30 years            11 - 20 years   \n",
       "16366   21 - 30 years            21 - 30 years   \n",
       "\n",
       "                                Education Gender  \\\n",
       "734                        College degree  Woman   \n",
       "14931                     Master's degree  Woman   \n",
       "11681                      College degree    Man   \n",
       "15285                      College degree  Woman   \n",
       "23496                     Master's degree    Man   \n",
       "25066  Professional degree (MD, JD, etc.)  Woman   \n",
       "16635                     Master's degree  Woman   \n",
       "3428                       College degree  Woman   \n",
       "112                       Master's degree  Woman   \n",
       "16366                        Some college  Woman   \n",
       "\n",
       "                                 Race     Total  \n",
       "734    Asian or Asian American, White  101000.0  \n",
       "14931         Asian or Asian American  145000.0  \n",
       "11681                           White  105000.0  \n",
       "15285                           White   74000.0  \n",
       "23496         Asian or Asian American  105000.0  \n",
       "25066                           White   73500.0  \n",
       "16635                           White  165000.0  \n",
       "3428                            White   37360.0  \n",
       "112                             White   42000.0  \n",
       "16366                           White   62000.0  "
      ]
     },
     "execution_count": 371,
     "metadata": {},
     "output_type": "execute_result"
    }
   ],
   "source": [
    "data.sample(10)"
   ]
  },
  {
   "cell_type": "markdown",
   "id": "a43ba1f8",
   "metadata": {},
   "source": [
    "**Messy Data from User Input**\n",
    "\n",
    "Another challenge the data presents is that the observations use a **currency** in the `Alternate Currency` column. But this column allows for user input, which, as we know, makes the columns vunerable to the entry of messy data.\n",
    "\n",
    "As can be seen in the above display below, the values are too varied, written not in currency code, and explanations instead of the currency. "
   ]
  },
  {
   "cell_type": "code",
   "execution_count": 372,
   "id": "3f33baa1",
   "metadata": {
    "scrolled": true
   },
   "outputs": [
    {
     "data": {
      "text/plain": [
       "USD                                                                                           11\n",
       "NOK                                                                                           10\n",
       "INR                                                                                            9\n",
       "MYR                                                                                            8\n",
       "SGD                                                                                            8\n",
       "                                                                                              ..\n",
       "AUD and NZD aren't the same currency, and have absolutely nothing to do with each other :(     1\n",
       "Taiwanese dollars                                                                              1\n",
       "RMB (chinese yuan)                                                                             1\n",
       "-                                                                                              1\n",
       "NGN                                                                                            1\n",
       "Name: Alternate Currency, Length: 111, dtype: int64"
      ]
     },
     "execution_count": 372,
     "metadata": {},
     "output_type": "execute_result"
    }
   ],
   "source": [
    "data['Alternate Currency'].value_counts()"
   ]
  },
  {
   "cell_type": "markdown",
   "id": "ada4dd1d",
   "metadata": {},
   "source": [
    "We first needed to we set everything to uppercase, to avoid issues with some written in lower and others in uppercase, then we proceed to replace the obviously discernible once with the appropriate values."
   ]
  },
  {
   "cell_type": "code",
   "execution_count": 373,
   "id": "35b8e37c",
   "metadata": {},
   "outputs": [],
   "source": [
    "data[\"Alternate Currency\"] = data[\"Alternate Currency\"].str.upper()\n",
    "data[\"Alternate Currency\"] = data[\"Alternate Currency\"].str.strip()\n",
    "data[\"Alternate Currency\"] = data[\"Alternate Currency\"].fillna(\"NONE\")\n",
    "data.loc[data[\"Alternate Currency\"].str.contains(\"ARGENT\"), \"Alternate Currency\"] = \"ARS\"\n",
    "data.loc[data[\"Alternate Currency\"].str.contains(\"MEXIC\"), \"Alternate Currency\"] = \"MXN\"\n",
    "data.loc[data[\"Alternate Currency\"].str.contains(\"IND\"), \"Alternate Currency\"] = \"INR\"\n",
    "data.loc[data[\"Alternate Currency\"].str.contains(\"ZWOTY\"), \"Alternate Currency\"] = \"PLN\"\n",
    "data.loc[data[\"Alternate Currency\"].str.contains(\"POLISH\"), \"Alternate Currency\"] = \"PLN\"\n",
    "data.loc[data[\"Alternate Currency\"].str.contains(\"AMERI\"), \"Alternate Currency\"] = \"USD\"\n",
    "data.loc[data[\"Alternate Currency\"].str.contains(\"CANA\"), \"Alternate Currency\"] = \"CAD\"\n",
    "data.loc[data[\"Alternate Currency\"].str.contains(\"CHIN\"), \"Alternate Currency\"] = \"CNY\"\n",
    "data.loc[data[\"Alternate Currency\"].str.contains(\"NIS\"), \"Alternate Currency\"] = \"ILS\"\n",
    "data.loc[data[\"Alternate Currency\"].str.contains(\"TAIW\"), \"Alternate Currency\"] = \"TWD\"\n",
    "data.loc[data[\"Alternate Currency\"].str.contains(\"PHIL\"), \"Alternate Currency\"] = \"PHP\"\n",
    "data.loc[data[\"Alternate Currency\"].str.contains(\"KOREAN\"), \"Alternate Currency\"] = \"KRW\"\n",
    "data.loc[data[\"Alternate Currency\"].str.contains(\"ISRAEL\"), \"Alternate Currency\"] = \"ILS\"\n",
    "data.loc[data[\"Alternate Currency\"].str.contains(\"AUSTRA\"), \"Alternate Currency\"] = \"AUD\"\n",
    "data.loc[data[\"Alternate Currency\"].str.contains(\"THAI\"), \"Alternate Currency\"] = \"THB\"\n",
    "data.loc[data[\"Alternate Currency\"].str.contains(\"CROAT\"), \"Alternate Currency\"] = \"HRK\"\n",
    "data.loc[data[\"Alternate Currency\"].str.contains(\"SINGAP\"), \"Alternate Currency\"] = \"SGD\"\n",
    "data.replace({\"Alternate Currency\": {\"BR$\":\"BRL\",\"BRL (R$)\" : \"BRL\",\"CZECH CROWNS\" : \"CZK\", \"NORWEGIAN KRONER (NOK)\" : \"NOK\", \n",
    "                                \"US DOLLAR\" : \"USD\", \"EURO\" : \"EUR\", \"NTD\" : \"TWD\"}}, inplace=True)\n",
    "# After replacing these values, we can delete everything that is over 3 characters in length, or less than 3, \n",
    "# as these are either not valid currencies, or not clear enough to use\n",
    "data.drop(data[data[\"Alternate Currency\"] == \"N/A\"].index, inplace=True)\n",
    "data = data[data[\"Alternate Currency\"].str.len() < 4]\n",
    "data = data[data[\"Alternate Currency\"].str.len() > 2]\n",
    "alt_cur = data[\"Alternate Currency\"].unique()"
   ]
  },
  {
   "cell_type": "code",
   "execution_count": 374,
   "id": "ba9f086d",
   "metadata": {},
   "outputs": [
    {
     "data": {
      "text/html": [
       "<div>\n",
       "<style scoped>\n",
       "    .dataframe tbody tr th:only-of-type {\n",
       "        vertical-align: middle;\n",
       "    }\n",
       "\n",
       "    .dataframe tbody tr th {\n",
       "        vertical-align: top;\n",
       "    }\n",
       "\n",
       "    .dataframe thead th {\n",
       "        text-align: right;\n",
       "    }\n",
       "</style>\n",
       "<table border=\"1\" class=\"dataframe\">\n",
       "  <thead>\n",
       "    <tr style=\"text-align: right;\">\n",
       "      <th></th>\n",
       "      <th>Age</th>\n",
       "      <th>Industry</th>\n",
       "      <th>Job Title</th>\n",
       "      <th>Currency</th>\n",
       "      <th>Alternate Currency</th>\n",
       "      <th>Country</th>\n",
       "      <th>US State</th>\n",
       "      <th>US City</th>\n",
       "      <th>Work experience</th>\n",
       "      <th>Work experience in field</th>\n",
       "      <th>Education</th>\n",
       "      <th>Gender</th>\n",
       "      <th>Race</th>\n",
       "      <th>Total</th>\n",
       "    </tr>\n",
       "  </thead>\n",
       "  <tbody>\n",
       "    <tr>\n",
       "      <th>27630</th>\n",
       "      <td>25-34</td>\n",
       "      <td>Computing or Tech</td>\n",
       "      <td>Senior Software Engineer</td>\n",
       "      <td>Other</td>\n",
       "      <td>INR</td>\n",
       "      <td>INDIA</td>\n",
       "      <td>NaN</td>\n",
       "      <td>BANGALORE</td>\n",
       "      <td>5-7 years</td>\n",
       "      <td>5-7 years</td>\n",
       "      <td>College degree</td>\n",
       "      <td>Man</td>\n",
       "      <td>Another option not listed here or prefer not t...</td>\n",
       "      <td>3000000.0</td>\n",
       "    </tr>\n",
       "    <tr>\n",
       "      <th>25539</th>\n",
       "      <td>55-64</td>\n",
       "      <td>Government and Public Administration</td>\n",
       "      <td>Administrative Analyst II</td>\n",
       "      <td>Other</td>\n",
       "      <td>USD</td>\n",
       "      <td>USA</td>\n",
       "      <td>California</td>\n",
       "      <td>Oakland</td>\n",
       "      <td>31 - 40 years</td>\n",
       "      <td>21 - 30 years</td>\n",
       "      <td>College degree</td>\n",
       "      <td>Woman</td>\n",
       "      <td>White</td>\n",
       "      <td>99000.0</td>\n",
       "    </tr>\n",
       "    <tr>\n",
       "      <th>21499</th>\n",
       "      <td>45-54</td>\n",
       "      <td>Health care</td>\n",
       "      <td>DBA/Programmer</td>\n",
       "      <td>Other</td>\n",
       "      <td>USD</td>\n",
       "      <td>USA</td>\n",
       "      <td>Illinois</td>\n",
       "      <td>Collinsville</td>\n",
       "      <td>21 - 30 years</td>\n",
       "      <td>11 - 20 years</td>\n",
       "      <td>College degree</td>\n",
       "      <td>Woman</td>\n",
       "      <td>Native American or Alaska Native, White</td>\n",
       "      <td>85000.0</td>\n",
       "    </tr>\n",
       "    <tr>\n",
       "      <th>26722</th>\n",
       "      <td>25-34</td>\n",
       "      <td>Environment</td>\n",
       "      <td>Environmental Consultant</td>\n",
       "      <td>Other</td>\n",
       "      <td>AUD</td>\n",
       "      <td>Australia</td>\n",
       "      <td>NaN</td>\n",
       "      <td>Brisbane, Queensland</td>\n",
       "      <td>8 - 10 years</td>\n",
       "      <td>2 - 4 years</td>\n",
       "      <td>College degree</td>\n",
       "      <td>Woman</td>\n",
       "      <td>White</td>\n",
       "      <td>730000.0</td>\n",
       "    </tr>\n",
       "    <tr>\n",
       "      <th>7953</th>\n",
       "      <td>25-34</td>\n",
       "      <td>Media &amp; Digital</td>\n",
       "      <td>videogame tester</td>\n",
       "      <td>Other</td>\n",
       "      <td>CZK</td>\n",
       "      <td>czech republic</td>\n",
       "      <td>NaN</td>\n",
       "      <td>olomouc</td>\n",
       "      <td>2 - 4 years</td>\n",
       "      <td>2 - 4 years</td>\n",
       "      <td>Master's degree</td>\n",
       "      <td>Woman</td>\n",
       "      <td>White</td>\n",
       "      <td>360000.0</td>\n",
       "    </tr>\n",
       "    <tr>\n",
       "      <th>10978</th>\n",
       "      <td>25-34</td>\n",
       "      <td>Business or Consulting</td>\n",
       "      <td>Lead Analyst</td>\n",
       "      <td>Other</td>\n",
       "      <td>INR</td>\n",
       "      <td>India</td>\n",
       "      <td>NaN</td>\n",
       "      <td>New Delhi</td>\n",
       "      <td>5-7 years</td>\n",
       "      <td>5-7 years</td>\n",
       "      <td>Master's degree</td>\n",
       "      <td>Man</td>\n",
       "      <td>Another option not listed here or prefer not t...</td>\n",
       "      <td>2100000.0</td>\n",
       "    </tr>\n",
       "    <tr>\n",
       "      <th>2473</th>\n",
       "      <td>25-34</td>\n",
       "      <td>Nonprofits</td>\n",
       "      <td>Special Events Manager</td>\n",
       "      <td>Other</td>\n",
       "      <td>USD</td>\n",
       "      <td>USA</td>\n",
       "      <td>Maine</td>\n",
       "      <td>Portland</td>\n",
       "      <td>8 - 10 years</td>\n",
       "      <td>8 - 10 years</td>\n",
       "      <td>College degree</td>\n",
       "      <td>Woman</td>\n",
       "      <td>White</td>\n",
       "      <td>48568.0</td>\n",
       "    </tr>\n",
       "    <tr>\n",
       "      <th>21240</th>\n",
       "      <td>25-34</td>\n",
       "      <td>Engineering or Manufacturing</td>\n",
       "      <td>Water Pump Service Specialist</td>\n",
       "      <td>Other</td>\n",
       "      <td>MYR</td>\n",
       "      <td>Malaysia</td>\n",
       "      <td>NaN</td>\n",
       "      <td>Shah Alam, Selangor</td>\n",
       "      <td>5-7 years</td>\n",
       "      <td>5-7 years</td>\n",
       "      <td>Some college</td>\n",
       "      <td>Man</td>\n",
       "      <td>Asian or Asian American</td>\n",
       "      <td>48400.0</td>\n",
       "    </tr>\n",
       "    <tr>\n",
       "      <th>27570</th>\n",
       "      <td>45-54</td>\n",
       "      <td>Utilities &amp; Telecommunications</td>\n",
       "      <td>Head of Operations</td>\n",
       "      <td>Other</td>\n",
       "      <td>NOK</td>\n",
       "      <td>Norway</td>\n",
       "      <td>NaN</td>\n",
       "      <td>Oslo</td>\n",
       "      <td>21 - 30 years</td>\n",
       "      <td>21 - 30 years</td>\n",
       "      <td>Master's degree</td>\n",
       "      <td>Man</td>\n",
       "      <td>Another option not listed here or prefer not t...</td>\n",
       "      <td>955000.0</td>\n",
       "    </tr>\n",
       "    <tr>\n",
       "      <th>19437</th>\n",
       "      <td>25-34</td>\n",
       "      <td>Computing or Tech</td>\n",
       "      <td>Senior Brand manager</td>\n",
       "      <td>Other</td>\n",
       "      <td>CNY</td>\n",
       "      <td>China</td>\n",
       "      <td>NaN</td>\n",
       "      <td>Shanghai</td>\n",
       "      <td>5-7 years</td>\n",
       "      <td>5-7 years</td>\n",
       "      <td>Master's degree</td>\n",
       "      <td>Woman</td>\n",
       "      <td>White</td>\n",
       "      <td>454000.0</td>\n",
       "    </tr>\n",
       "  </tbody>\n",
       "</table>\n",
       "</div>"
      ],
      "text/plain": [
       "         Age                              Industry  \\\n",
       "27630  25-34                     Computing or Tech   \n",
       "25539  55-64  Government and Public Administration   \n",
       "21499  45-54                           Health care   \n",
       "26722  25-34                           Environment   \n",
       "7953   25-34                       Media & Digital   \n",
       "10978  25-34                Business or Consulting   \n",
       "2473   25-34                            Nonprofits   \n",
       "21240  25-34          Engineering or Manufacturing   \n",
       "27570  45-54        Utilities & Telecommunications   \n",
       "19437  25-34                     Computing or Tech   \n",
       "\n",
       "                           Job Title Currency Alternate Currency  \\\n",
       "27630       Senior Software Engineer    Other                INR   \n",
       "25539      Administrative Analyst II    Other                USD   \n",
       "21499                 DBA/Programmer    Other                USD   \n",
       "26722       Environmental Consultant    Other                AUD   \n",
       "7953                videogame tester    Other                CZK   \n",
       "10978                   Lead Analyst    Other                INR   \n",
       "2473         Special Events Manager     Other                USD   \n",
       "21240  Water Pump Service Specialist    Other                MYR   \n",
       "27570             Head of Operations    Other                NOK   \n",
       "19437           Senior Brand manager    Other                CNY   \n",
       "\n",
       "              Country    US State               US City Work experience  \\\n",
       "27630           INDIA         NaN             BANGALORE       5-7 years   \n",
       "25539             USA  California               Oakland   31 - 40 years   \n",
       "21499             USA    Illinois          Collinsville   21 - 30 years   \n",
       "26722       Australia         NaN  Brisbane, Queensland    8 - 10 years   \n",
       "7953   czech republic         NaN               olomouc     2 - 4 years   \n",
       "10978           India         NaN             New Delhi       5-7 years   \n",
       "2473              USA       Maine              Portland    8 - 10 years   \n",
       "21240        Malaysia         NaN   Shah Alam, Selangor       5-7 years   \n",
       "27570          Norway         NaN                  Oslo   21 - 30 years   \n",
       "19437           China         NaN              Shanghai       5-7 years   \n",
       "\n",
       "      Work experience in field        Education Gender  \\\n",
       "27630                5-7 years   College degree    Man   \n",
       "25539            21 - 30 years   College degree  Woman   \n",
       "21499            11 - 20 years   College degree  Woman   \n",
       "26722              2 - 4 years   College degree  Woman   \n",
       "7953               2 - 4 years  Master's degree  Woman   \n",
       "10978                5-7 years  Master's degree    Man   \n",
       "2473              8 - 10 years   College degree  Woman   \n",
       "21240                5-7 years     Some college    Man   \n",
       "27570            21 - 30 years  Master's degree    Man   \n",
       "19437                5-7 years  Master's degree  Woman   \n",
       "\n",
       "                                                    Race      Total  \n",
       "27630  Another option not listed here or prefer not t...  3000000.0  \n",
       "25539                                              White    99000.0  \n",
       "21499            Native American or Alaska Native, White    85000.0  \n",
       "26722                                              White   730000.0  \n",
       "7953                                               White   360000.0  \n",
       "10978  Another option not listed here or prefer not t...  2100000.0  \n",
       "2473                                               White    48568.0  \n",
       "21240                            Asian or Asian American    48400.0  \n",
       "27570  Another option not listed here or prefer not t...   955000.0  \n",
       "19437                                              White   454000.0  "
      ]
     },
     "execution_count": 374,
     "metadata": {},
     "output_type": "execute_result"
    }
   ],
   "source": [
    "data.sample(10)"
   ]
  },
  {
   "cell_type": "markdown",
   "id": "fa11acde",
   "metadata": {},
   "source": [
    "**Job Title Data Cleaning and Imputing**\n",
    "\n",
    "Job Title, is another user-input field that is frought with messy data that needs to be cleaned and imputed with appropriate values. All **Job Titles** with a count of 1 are put together and imputed as `OTHER` in the `Job Title` column of the **data** dataframe."
   ]
  },
  {
   "cell_type": "code",
   "execution_count": 375,
   "id": "dac7d1f1",
   "metadata": {},
   "outputs": [],
   "source": [
    "data[\"Job Title\"] = data[\"Job Title\"].str.upper()\n",
    "data[\"Job Title\"] = data[\"Job Title\"].str.strip()\n",
    "data.loc[data[\"Job Title\"].str.contains(\"EXEC\"), \"Job Title\"] = \"EXECUTIVE\"\n",
    "data.loc[data[\"Job Title\"].str.contains(\"CONSULTANT\"), \"Job Title\"] = \"CONSULTANT\"\n",
    "data.loc[data[\"Job Title\"].str.contains(\"TEACH\"), \"Job Title\"] = \"TEACHER\"\n",
    "data.loc[data[\"Job Title\"].str.contains(\"MANAGER\")|\n",
    "      data[\"Job Title\"].str.contains(\"ADMIN\"), \"Job Title\"] = \"MANAGER\"\n",
    "data.loc[data[\"Job Title\"].str.contains(\"ACCOUNTANT\"), \"Job Title\"] = \"ACCOUNTANT\"\n",
    "data.loc[data[\"Job Title\"].str.contains(\"SPECIALIST\"), \"Job Title\"] = \"SPECIALIST\"\n",
    "data.loc[data[\"Job Title\"].str.contains(\"ANALYST\"), \"Job Title\"] = \"ANALYST\"\n",
    "data.loc[data[\"Job Title\"].str.contains(\"ASSOCIATE\"), \"Job Title\"] = \"ASSOCIATE\"\n",
    "data.loc[data[\"Job Title\"].str.contains(\"LEGAL\"), \"Job Title\"] = \"LEGAL\"\n",
    "data.loc[data[\"Job Title\"].str.contains(\"ASSISTANT\"), \"Job Title\"] = \"ASSISTANT\"\n",
    "data.loc[data[\"Job Title\"].str.contains(\"ARTIST\"), \"Job Title\"] = \"ARTIST\"\n",
    "data.loc[data[\"Job Title\"].str.contains(\"ADVISOR\"), \"Job Title\"] = \"ADVISOR\"\n",
    "data.loc[data[\"Job Title\"].str.contains(\"RESEARCH\")|\n",
    "      data[\"Job Title\"].str.contains(\"R&D\")|\n",
    "      data[\"Job Title\"].str.contains(\"SCIENTIST\"), \"Job Title\"] = \"RESEARCH\"\n",
    "data.loc[data[\"Job Title\"].str.contains(\"LEAD\"), \"Job Title\"] = \"LEAD\"\n",
    "data.loc[data[\"Job Title\"].str.contains(\"SOFTWARE\")|\n",
    "      data[\"Job Title\"].str.contains(\"DEVELOPER\"), \"Job Title\"] = \"SWE\"\n",
    "data.loc[data[\"Job Title\"].str.contains(\"ENGI\"), \"Job Title\"] = \"ENGINEER\"\n",
    "data.loc[data[\"Job Title\"].str.contains(\"SENIOR\"), \"Job Title\"] = \"SENIOR\""
   ]
  },
  {
   "cell_type": "code",
   "execution_count": 376,
   "id": "aa3a2fa0",
   "metadata": {},
   "outputs": [
    {
     "data": {
      "text/plain": [
       "434                  ANALYST\n",
       "603                EXECUTIVE\n",
       "1311               ASSOCIATE\n",
       "1840              CONSULTANT\n",
       "1915     INSTRUCTIONAL COACH\n",
       "                ...         \n",
       "27841                    SWE\n",
       "27846                  LEGAL\n",
       "27856              EXECUTIVE\n",
       "27897                MANAGER\n",
       "27902             CONSULTANT\n",
       "Name: Job Title, Length: 159, dtype: object"
      ]
     },
     "execution_count": 376,
     "metadata": {},
     "output_type": "execute_result"
    }
   ],
   "source": [
    "data[\"Job Title\"]"
   ]
  },
  {
   "cell_type": "code",
   "execution_count": 377,
   "id": "b27a7a3e",
   "metadata": {},
   "outputs": [],
   "source": [
    "frame = {\"Job Title\":data[\"Job Title\"].unique(), \"count\":data[\"Job Title\"].value_counts()}\n",
    "temp = pd.DataFrame(frame)\n",
    "jobs_to_other = temp[temp[\"count\"]==1][\"count\"].index.values.tolist()\n",
    "jobs_to_other = '|'.join(jobs_to_other)\n",
    "data.loc[data[\"Job Title\"].str.contains(jobs_to_other), \"Job Title\"] = \"OTHER\""
   ]
  },
  {
   "cell_type": "code",
   "execution_count": 378,
   "id": "0ce52c3b",
   "metadata": {},
   "outputs": [
    {
     "data": {
      "text/plain": [
       "OTHER         63\n",
       "MANAGER       26\n",
       "SWE           20\n",
       "EXECUTIVE     11\n",
       "ENGINEER      11\n",
       "CONSULTANT     7\n",
       "SPECIALIST     6\n",
       "ANALYST        4\n",
       "ASSISTANT      4\n",
       "ASSOCIATE      3\n",
       "ADVISOR        2\n",
       "LEGAL          2\n",
       "Name: Job Title, dtype: int64"
      ]
     },
     "execution_count": 378,
     "metadata": {},
     "output_type": "execute_result"
    }
   ],
   "source": [
    "data[\"Job Title\"].value_counts()"
   ]
  },
  {
   "cell_type": "markdown",
   "id": "0b617a65",
   "metadata": {},
   "source": [
    "**Dealing with Alternate Currencies**\n",
    "\n",
    "Having cleaned the data up to this point, we now perform the exchange rate computation between `Alternate Currencies` and `USD`."
   ]
  },
  {
   "cell_type": "code",
   "execution_count": 379,
   "id": "b5d1735f",
   "metadata": {},
   "outputs": [
    {
     "name": "stdout",
     "output_type": "stream",
     "text": [
      "['INR' 'ARS' 'MYR' 'CHF' 'KWD' 'NOK' 'USD' 'BRL' 'SEK' 'CAD' 'DKK' 'EUR'\n",
      " 'COP' 'TTD' 'MXN' 'CZK' 'GBP' 'ZAR' 'PHP' 'PLN' 'TRY' 'CNY' 'ILS' 'AUD'\n",
      " 'TWD' 'NZD' 'SGD' 'KRW' 'THB' 'IDR' 'LKR' 'SAR' 'HRK' 'NGN']\n"
     ]
    }
   ],
   "source": [
    "key = \"c43e42e958c4b9df95f29ec3\"\n",
    "url = \"https://v6.exchangerate-api.com/v6/\" + key + \"/pair/\"#+ \"/latest/USD\"\n",
    "print(alt_cur)\n",
    "ex_rat = {}\n",
    "for ac in alt_cur:\n",
    "    #break\n",
    "    s = url + ac + \"/USD\"\n",
    "    r = requests.get(s)#.json()[\"conversion_rate\"]\n",
    "    #print(r)\n",
    "    rjson = r.json()\n",
    "    #print(rjson)\n",
    "    c = rjson[\"conversion_rate\"]\n",
    "    #print(c)\n",
    "    ex_rat[ac] = c"
   ]
  },
  {
   "cell_type": "code",
   "execution_count": 380,
   "id": "a95d0b4f",
   "metadata": {},
   "outputs": [
    {
     "name": "stderr",
     "output_type": "stream",
     "text": [
      "/tmp/ipykernel_178/4289643481.py:2: SettingWithCopyWarning: \n",
      "A value is trying to be set on a copy of a slice from a DataFrame\n",
      "\n",
      "See the caveats in the documentation: https://pandas.pydata.org/pandas-docs/stable/user_guide/indexing.html#returning-a-view-versus-a-copy\n"
     ]
    },
    {
     "data": {
      "text/html": [
       "<div>\n",
       "<style scoped>\n",
       "    .dataframe tbody tr th:only-of-type {\n",
       "        vertical-align: middle;\n",
       "    }\n",
       "\n",
       "    .dataframe tbody tr th {\n",
       "        vertical-align: top;\n",
       "    }\n",
       "\n",
       "    .dataframe thead th {\n",
       "        text-align: right;\n",
       "    }\n",
       "</style>\n",
       "<table border=\"1\" class=\"dataframe\">\n",
       "  <thead>\n",
       "    <tr style=\"text-align: right;\">\n",
       "      <th></th>\n",
       "      <th>Age</th>\n",
       "      <th>Industry</th>\n",
       "      <th>Job Title</th>\n",
       "      <th>Currency</th>\n",
       "      <th>Alternate Currency</th>\n",
       "      <th>Country</th>\n",
       "      <th>US State</th>\n",
       "      <th>US City</th>\n",
       "      <th>Work experience</th>\n",
       "      <th>Work experience in field</th>\n",
       "      <th>Education</th>\n",
       "      <th>Gender</th>\n",
       "      <th>Race</th>\n",
       "      <th>Total</th>\n",
       "    </tr>\n",
       "  </thead>\n",
       "  <tbody>\n",
       "    <tr>\n",
       "      <th>2473</th>\n",
       "      <td>25-34</td>\n",
       "      <td>Nonprofits</td>\n",
       "      <td>MANAGER</td>\n",
       "      <td>Other</td>\n",
       "      <td>USD</td>\n",
       "      <td>USA</td>\n",
       "      <td>Maine</td>\n",
       "      <td>Portland</td>\n",
       "      <td>8 - 10 years</td>\n",
       "      <td>8 - 10 years</td>\n",
       "      <td>College degree</td>\n",
       "      <td>Woman</td>\n",
       "      <td>White</td>\n",
       "      <td>48568.0</td>\n",
       "    </tr>\n",
       "    <tr>\n",
       "      <th>7402</th>\n",
       "      <td>45-54</td>\n",
       "      <td>Education (Higher Education)</td>\n",
       "      <td>EXECUTIVE</td>\n",
       "      <td>Other</td>\n",
       "      <td>USD</td>\n",
       "      <td>U.S.A.</td>\n",
       "      <td>Washington</td>\n",
       "      <td>Seattle</td>\n",
       "      <td>31 - 40 years</td>\n",
       "      <td>21 - 30 years</td>\n",
       "      <td>College degree</td>\n",
       "      <td>Woman</td>\n",
       "      <td>White</td>\n",
       "      <td>76500.0</td>\n",
       "    </tr>\n",
       "    <tr>\n",
       "      <th>9410</th>\n",
       "      <td>35-44</td>\n",
       "      <td>Retail</td>\n",
       "      <td>ASSOCIATE</td>\n",
       "      <td>Other</td>\n",
       "      <td>USD</td>\n",
       "      <td>USA</td>\n",
       "      <td>Massachusetts</td>\n",
       "      <td>Franklin</td>\n",
       "      <td>11 - 20 years</td>\n",
       "      <td>5-7 years</td>\n",
       "      <td>Professional degree (MD, JD, etc.)</td>\n",
       "      <td>Woman</td>\n",
       "      <td>White</td>\n",
       "      <td>29600.0</td>\n",
       "    </tr>\n",
       "    <tr>\n",
       "      <th>10150</th>\n",
       "      <td>45-54</td>\n",
       "      <td>Property or Construction</td>\n",
       "      <td>OTHER</td>\n",
       "      <td>Other</td>\n",
       "      <td>USD</td>\n",
       "      <td>USA</td>\n",
       "      <td>Illinois</td>\n",
       "      <td>Rockford</td>\n",
       "      <td>31 - 40 years</td>\n",
       "      <td>21 - 30 years</td>\n",
       "      <td>Some college</td>\n",
       "      <td>Woman</td>\n",
       "      <td>White</td>\n",
       "      <td>51500.0</td>\n",
       "    </tr>\n",
       "    <tr>\n",
       "      <th>11434</th>\n",
       "      <td>25-34</td>\n",
       "      <td>Law</td>\n",
       "      <td>SPECIALIST</td>\n",
       "      <td>Other</td>\n",
       "      <td>USD</td>\n",
       "      <td>USA</td>\n",
       "      <td>District of Columbia</td>\n",
       "      <td>Washington, DC</td>\n",
       "      <td>5-7 years</td>\n",
       "      <td>5-7 years</td>\n",
       "      <td>Professional degree (MD, JD, etc.)</td>\n",
       "      <td>Woman</td>\n",
       "      <td>Black or African American</td>\n",
       "      <td>91000.0</td>\n",
       "    </tr>\n",
       "    <tr>\n",
       "      <th>11788</th>\n",
       "      <td>45-54</td>\n",
       "      <td>Health care</td>\n",
       "      <td>OTHER</td>\n",
       "      <td>Other</td>\n",
       "      <td>USD</td>\n",
       "      <td>US</td>\n",
       "      <td>Oregon</td>\n",
       "      <td>Portland</td>\n",
       "      <td>11 - 20 years</td>\n",
       "      <td>5-7 years</td>\n",
       "      <td>College degree</td>\n",
       "      <td>Woman</td>\n",
       "      <td>White</td>\n",
       "      <td>120000.0</td>\n",
       "    </tr>\n",
       "    <tr>\n",
       "      <th>12481</th>\n",
       "      <td>45-54</td>\n",
       "      <td>Accounting, Banking &amp; Finance</td>\n",
       "      <td>OTHER</td>\n",
       "      <td>USD</td>\n",
       "      <td>USD</td>\n",
       "      <td>United States</td>\n",
       "      <td>Texas</td>\n",
       "      <td>Waco</td>\n",
       "      <td>11 - 20 years</td>\n",
       "      <td>11 - 20 years</td>\n",
       "      <td>College degree</td>\n",
       "      <td>Woman</td>\n",
       "      <td>White</td>\n",
       "      <td>97000.0</td>\n",
       "    </tr>\n",
       "    <tr>\n",
       "      <th>17588</th>\n",
       "      <td>25-34</td>\n",
       "      <td>Computing or Tech</td>\n",
       "      <td>SWE</td>\n",
       "      <td>USD</td>\n",
       "      <td>USD</td>\n",
       "      <td>USA</td>\n",
       "      <td>Washington</td>\n",
       "      <td>Seattle</td>\n",
       "      <td>8 - 10 years</td>\n",
       "      <td>5-7 years</td>\n",
       "      <td>High School</td>\n",
       "      <td>Man</td>\n",
       "      <td>Asian or Asian American</td>\n",
       "      <td>370000.0</td>\n",
       "    </tr>\n",
       "    <tr>\n",
       "      <th>19416</th>\n",
       "      <td>25-34</td>\n",
       "      <td>Computing or Tech</td>\n",
       "      <td>OTHER</td>\n",
       "      <td>Other</td>\n",
       "      <td>USD</td>\n",
       "      <td>US</td>\n",
       "      <td>Illinois</td>\n",
       "      <td>Chicago</td>\n",
       "      <td>5-7 years</td>\n",
       "      <td>2 - 4 years</td>\n",
       "      <td>PhD</td>\n",
       "      <td>Woman</td>\n",
       "      <td>Asian or Asian American</td>\n",
       "      <td>135000.0</td>\n",
       "    </tr>\n",
       "    <tr>\n",
       "      <th>21036</th>\n",
       "      <td>25-34</td>\n",
       "      <td>Insurance</td>\n",
       "      <td>SPECIALIST</td>\n",
       "      <td>Other</td>\n",
       "      <td>USD</td>\n",
       "      <td>USA</td>\n",
       "      <td>Texas</td>\n",
       "      <td>Houston</td>\n",
       "      <td>5-7 years</td>\n",
       "      <td>5-7 years</td>\n",
       "      <td>College degree</td>\n",
       "      <td>Woman</td>\n",
       "      <td>White</td>\n",
       "      <td>74000.0</td>\n",
       "    </tr>\n",
       "    <tr>\n",
       "      <th>21499</th>\n",
       "      <td>45-54</td>\n",
       "      <td>Health care</td>\n",
       "      <td>OTHER</td>\n",
       "      <td>Other</td>\n",
       "      <td>USD</td>\n",
       "      <td>USA</td>\n",
       "      <td>Illinois</td>\n",
       "      <td>Collinsville</td>\n",
       "      <td>21 - 30 years</td>\n",
       "      <td>11 - 20 years</td>\n",
       "      <td>College degree</td>\n",
       "      <td>Woman</td>\n",
       "      <td>Native American or Alaska Native, White</td>\n",
       "      <td>85000.0</td>\n",
       "    </tr>\n",
       "    <tr>\n",
       "      <th>25539</th>\n",
       "      <td>55-64</td>\n",
       "      <td>Government and Public Administration</td>\n",
       "      <td>MANAGER</td>\n",
       "      <td>Other</td>\n",
       "      <td>USD</td>\n",
       "      <td>USA</td>\n",
       "      <td>California</td>\n",
       "      <td>Oakland</td>\n",
       "      <td>31 - 40 years</td>\n",
       "      <td>21 - 30 years</td>\n",
       "      <td>College degree</td>\n",
       "      <td>Woman</td>\n",
       "      <td>White</td>\n",
       "      <td>99000.0</td>\n",
       "    </tr>\n",
       "    <tr>\n",
       "      <th>27368</th>\n",
       "      <td>35-44</td>\n",
       "      <td>Law</td>\n",
       "      <td>OTHER</td>\n",
       "      <td>USD</td>\n",
       "      <td>USD</td>\n",
       "      <td>USA</td>\n",
       "      <td>Oregon</td>\n",
       "      <td>Portland</td>\n",
       "      <td>11 - 20 years</td>\n",
       "      <td>8 - 10 years</td>\n",
       "      <td>Professional degree (MD, JD, etc.)</td>\n",
       "      <td>Woman</td>\n",
       "      <td>White</td>\n",
       "      <td>109000.0</td>\n",
       "    </tr>\n",
       "  </tbody>\n",
       "</table>\n",
       "</div>"
      ],
      "text/plain": [
       "         Age                              Industry   Job Title Currency  \\\n",
       "2473   25-34                            Nonprofits     MANAGER    Other   \n",
       "7402   45-54          Education (Higher Education)   EXECUTIVE    Other   \n",
       "9410   35-44                                Retail   ASSOCIATE    Other   \n",
       "10150  45-54              Property or Construction       OTHER    Other   \n",
       "11434  25-34                                   Law  SPECIALIST    Other   \n",
       "11788  45-54                           Health care       OTHER    Other   \n",
       "12481  45-54         Accounting, Banking & Finance       OTHER      USD   \n",
       "17588  25-34                     Computing or Tech         SWE      USD   \n",
       "19416  25-34                     Computing or Tech       OTHER    Other   \n",
       "21036  25-34                             Insurance  SPECIALIST    Other   \n",
       "21499  45-54                           Health care       OTHER    Other   \n",
       "25539  55-64  Government and Public Administration     MANAGER    Other   \n",
       "27368  35-44                                   Law       OTHER      USD   \n",
       "\n",
       "      Alternate Currency        Country              US State         US City  \\\n",
       "2473                 USD            USA                 Maine        Portland   \n",
       "7402                 USD         U.S.A.            Washington         Seattle   \n",
       "9410                 USD            USA         Massachusetts        Franklin   \n",
       "10150                USD            USA              Illinois        Rockford   \n",
       "11434                USD            USA  District of Columbia  Washington, DC   \n",
       "11788                USD             US                Oregon        Portland   \n",
       "12481                USD  United States                 Texas            Waco   \n",
       "17588                USD            USA            Washington         Seattle   \n",
       "19416                USD             US              Illinois         Chicago   \n",
       "21036                USD            USA                 Texas         Houston   \n",
       "21499                USD            USA              Illinois    Collinsville   \n",
       "25539                USD            USA            California         Oakland   \n",
       "27368                USD            USA                Oregon        Portland   \n",
       "\n",
       "      Work experience Work experience in field  \\\n",
       "2473     8 - 10 years             8 - 10 years   \n",
       "7402    31 - 40 years            21 - 30 years   \n",
       "9410    11 - 20 years                5-7 years   \n",
       "10150   31 - 40 years            21 - 30 years   \n",
       "11434       5-7 years                5-7 years   \n",
       "11788   11 - 20 years                5-7 years   \n",
       "12481   11 - 20 years            11 - 20 years   \n",
       "17588    8 - 10 years                5-7 years   \n",
       "19416       5-7 years              2 - 4 years   \n",
       "21036       5-7 years                5-7 years   \n",
       "21499   21 - 30 years            11 - 20 years   \n",
       "25539   31 - 40 years            21 - 30 years   \n",
       "27368   11 - 20 years             8 - 10 years   \n",
       "\n",
       "                                Education Gender  \\\n",
       "2473                       College degree  Woman   \n",
       "7402                       College degree  Woman   \n",
       "9410   Professional degree (MD, JD, etc.)  Woman   \n",
       "10150                        Some college  Woman   \n",
       "11434  Professional degree (MD, JD, etc.)  Woman   \n",
       "11788                      College degree  Woman   \n",
       "12481                      College degree  Woman   \n",
       "17588                         High School    Man   \n",
       "19416                                 PhD  Woman   \n",
       "21036                      College degree  Woman   \n",
       "21499                      College degree  Woman   \n",
       "25539                      College degree  Woman   \n",
       "27368  Professional degree (MD, JD, etc.)  Woman   \n",
       "\n",
       "                                          Race     Total  \n",
       "2473                                     White   48568.0  \n",
       "7402                                     White   76500.0  \n",
       "9410                                     White   29600.0  \n",
       "10150                                    White   51500.0  \n",
       "11434                Black or African American   91000.0  \n",
       "11788                                    White  120000.0  \n",
       "12481                                    White   97000.0  \n",
       "17588                  Asian or Asian American  370000.0  \n",
       "19416                  Asian or Asian American  135000.0  \n",
       "21036                                    White   74000.0  \n",
       "21499  Native American or Alaska Native, White   85000.0  \n",
       "25539                                    White   99000.0  \n",
       "27368                                    White  109000.0  "
      ]
     },
     "execution_count": 380,
     "metadata": {},
     "output_type": "execute_result"
    }
   ],
   "source": [
    "for i in data.index: \n",
    "    data[\"Total\"][i] = data[\"Total\"][i] * ex_rat[data[\"Alternate Currency\"][i]]\n",
    "data.loc[data[\"Alternate Currency\"] == \"USD\"]"
   ]
  },
  {
   "cell_type": "markdown",
   "id": "548bb6ab",
   "metadata": {},
   "source": [
    "**Cleaning the Country Column**\n",
    "\n",
    "The Country column is another free-entry column that contain inconsistent and messy data and required cleaning. All entries were converted to uppercase to deal with differences in case for the entries. The column values were then imputed with values that the team deemed appropriate after careful examination of all observations. We made use of the `str` *contains()* method to deal with inconsistent country entries. "
   ]
  },
  {
   "cell_type": "code",
   "execution_count": 381,
   "id": "76406298",
   "metadata": {},
   "outputs": [],
   "source": [
    "data[\"Country\"] = data[\"Country\"].str.upper()\n",
    "data[\"Country\"] = data[\"Country\"].str.strip()\n",
    "data.loc[data[\"Country\"].str.contains(\"ARGENTINA\"), \"Country\"] = \"ARGENTINA\"\n",
    "data.loc[data[\"Country\"].str.contains(\"CHINA\"), \"Country\"] = \"CHINA\"\n",
    "data.loc[data[\"Country\"].str.contains(\"U.S.A\") | \n",
    "      data[\"Country\"].str.contains(\"USA\") |\n",
    "      data[\"Country\"].str.contains(\"UNITED STATES\")|\n",
    "      data[\"Country\"].str.match(\"US\"), \"Country\"] = \"USA\"\n",
    "data.loc[data[\"Country\"].str.contains(\"AUSTRALIA\"), \"Country\"] = \"AUSTRALIA\"\n",
    "data.loc[data[\"Country\"].str.contains(\"CZECH\"), \"Country\"] = \"CZECH REPUBLIC\"\n",
    "data.loc[data[\"Country\"].str.contains(\"XICO\"), \"Country\"] = \"MEXICO\"\n",
    "data.loc[data[\"Country\"].str.contains(\"BRAZIL\") |\n",
    "      data[\"Country\"].str.contains(\"BRASIL\"), \"Country\"] = \"BRAZIL\""
   ]
  },
  {
   "cell_type": "markdown",
   "id": "e7f4f4a4",
   "metadata": {},
   "source": [
    "**Deleting Redundant Columns**\n",
    "\n",
    "Since every observation is now in the same currency, we can get rid of the `Currency` and `Alternate Currency` columns.\n",
    "\n",
    "`US State`, `US City` can be dropped, as these values are just too varied and are, indeed, not likely to country much to the analsis since earnings are compared accross multiple countries."
   ]
  },
  {
   "cell_type": "code",
   "execution_count": 382,
   "id": "8fd4b167",
   "metadata": {
    "scrolled": true
   },
   "outputs": [
    {
     "data": {
      "text/html": [
       "<div>\n",
       "<style scoped>\n",
       "    .dataframe tbody tr th:only-of-type {\n",
       "        vertical-align: middle;\n",
       "    }\n",
       "\n",
       "    .dataframe tbody tr th {\n",
       "        vertical-align: top;\n",
       "    }\n",
       "\n",
       "    .dataframe thead th {\n",
       "        text-align: right;\n",
       "    }\n",
       "</style>\n",
       "<table border=\"1\" class=\"dataframe\">\n",
       "  <thead>\n",
       "    <tr style=\"text-align: right;\">\n",
       "      <th></th>\n",
       "      <th>Age</th>\n",
       "      <th>Industry</th>\n",
       "      <th>Job Title</th>\n",
       "      <th>Country</th>\n",
       "      <th>Work experience</th>\n",
       "      <th>Work experience in field</th>\n",
       "      <th>Education</th>\n",
       "      <th>Gender</th>\n",
       "      <th>Race</th>\n",
       "      <th>Total</th>\n",
       "    </tr>\n",
       "  </thead>\n",
       "  <tbody>\n",
       "    <tr>\n",
       "      <th>11692</th>\n",
       "      <td>45-54</td>\n",
       "      <td>Transport or Logistics</td>\n",
       "      <td>EXECUTIVE</td>\n",
       "      <td>NEW ZEALAND</td>\n",
       "      <td>21 - 30 years</td>\n",
       "      <td>11 - 20 years</td>\n",
       "      <td>High School</td>\n",
       "      <td>Woman</td>\n",
       "      <td>Another option not listed here or prefer not t...</td>\n",
       "      <td>52993.200</td>\n",
       "    </tr>\n",
       "    <tr>\n",
       "      <th>21320</th>\n",
       "      <td>25-34</td>\n",
       "      <td>Computing or Tech</td>\n",
       "      <td>SWE</td>\n",
       "      <td>INDIA</td>\n",
       "      <td>2 - 4 years</td>\n",
       "      <td>2 - 4 years</td>\n",
       "      <td>Professional degree (MD, JD, etc.)</td>\n",
       "      <td>Man</td>\n",
       "      <td>Asian or Asian American</td>\n",
       "      <td>14580.000</td>\n",
       "    </tr>\n",
       "    <tr>\n",
       "      <th>16722</th>\n",
       "      <td>25-34</td>\n",
       "      <td>Computing or Tech</td>\n",
       "      <td>MANAGER</td>\n",
       "      <td>ISRAEL</td>\n",
       "      <td>11 - 20 years</td>\n",
       "      <td>1 year or less</td>\n",
       "      <td>College degree</td>\n",
       "      <td>Man</td>\n",
       "      <td>Middle Eastern or Northern African, White</td>\n",
       "      <td>136231.200</td>\n",
       "    </tr>\n",
       "    <tr>\n",
       "      <th>11332</th>\n",
       "      <td>25-34</td>\n",
       "      <td>Marketing, Advertising &amp; PR</td>\n",
       "      <td>OTHER</td>\n",
       "      <td>THAILAND</td>\n",
       "      <td>2 - 4 years</td>\n",
       "      <td>2 - 4 years</td>\n",
       "      <td>Master's degree</td>\n",
       "      <td>Woman</td>\n",
       "      <td>Asian or Asian American</td>\n",
       "      <td>22705.800</td>\n",
       "    </tr>\n",
       "    <tr>\n",
       "      <th>603</th>\n",
       "      <td>45-54</td>\n",
       "      <td>Health care</td>\n",
       "      <td>EXECUTIVE</td>\n",
       "      <td>ARGENTINA</td>\n",
       "      <td>11 - 20 years</td>\n",
       "      <td>11 - 20 years</td>\n",
       "      <td>College degree</td>\n",
       "      <td>Woman</td>\n",
       "      <td>Hispanic, Latino, or Spanish origin</td>\n",
       "      <td>4774.192</td>\n",
       "    </tr>\n",
       "    <tr>\n",
       "      <th>8380</th>\n",
       "      <td>25-34</td>\n",
       "      <td>Engineering or Manufacturing</td>\n",
       "      <td>OTHER</td>\n",
       "      <td>DENMARK</td>\n",
       "      <td>8 - 10 years</td>\n",
       "      <td>8 - 10 years</td>\n",
       "      <td>Master's degree</td>\n",
       "      <td>Woman</td>\n",
       "      <td>White</td>\n",
       "      <td>88620.000</td>\n",
       "    </tr>\n",
       "    <tr>\n",
       "      <th>2639</th>\n",
       "      <td>25-34</td>\n",
       "      <td>Engineering or Manufacturing</td>\n",
       "      <td>ENGINEER</td>\n",
       "      <td>BRAZIL</td>\n",
       "      <td>11 - 20 years</td>\n",
       "      <td>8 - 10 years</td>\n",
       "      <td>Master's degree</td>\n",
       "      <td>Woman</td>\n",
       "      <td>Hispanic, Latino, or Spanish origin</td>\n",
       "      <td>37312.100</td>\n",
       "    </tr>\n",
       "    <tr>\n",
       "      <th>21322</th>\n",
       "      <td>25-34</td>\n",
       "      <td>Accounting, Banking &amp; Finance</td>\n",
       "      <td>MANAGER</td>\n",
       "      <td>INDIA</td>\n",
       "      <td>11 - 20 years</td>\n",
       "      <td>11 - 20 years</td>\n",
       "      <td>College degree</td>\n",
       "      <td>Woman</td>\n",
       "      <td>Asian or Asian American, Another option not li...</td>\n",
       "      <td>22501.800</td>\n",
       "    </tr>\n",
       "    <tr>\n",
       "      <th>18827</th>\n",
       "      <td>18-24</td>\n",
       "      <td>Computing or Tech</td>\n",
       "      <td>SWE</td>\n",
       "      <td>MALAYSIA</td>\n",
       "      <td>1 year or less</td>\n",
       "      <td>1 year or less</td>\n",
       "      <td>College degree</td>\n",
       "      <td>Man</td>\n",
       "      <td>Asian or Asian American</td>\n",
       "      <td>10101.600</td>\n",
       "    </tr>\n",
       "    <tr>\n",
       "      <th>21036</th>\n",
       "      <td>25-34</td>\n",
       "      <td>Insurance</td>\n",
       "      <td>SPECIALIST</td>\n",
       "      <td>USA</td>\n",
       "      <td>5-7 years</td>\n",
       "      <td>5-7 years</td>\n",
       "      <td>College degree</td>\n",
       "      <td>Woman</td>\n",
       "      <td>White</td>\n",
       "      <td>74000.000</td>\n",
       "    </tr>\n",
       "  </tbody>\n",
       "</table>\n",
       "</div>"
      ],
      "text/plain": [
       "         Age                       Industry   Job Title      Country  \\\n",
       "11692  45-54         Transport or Logistics   EXECUTIVE  NEW ZEALAND   \n",
       "21320  25-34              Computing or Tech         SWE        INDIA   \n",
       "16722  25-34              Computing or Tech     MANAGER       ISRAEL   \n",
       "11332  25-34    Marketing, Advertising & PR       OTHER     THAILAND   \n",
       "603    45-54                    Health care   EXECUTIVE    ARGENTINA   \n",
       "8380   25-34   Engineering or Manufacturing       OTHER      DENMARK   \n",
       "2639   25-34   Engineering or Manufacturing    ENGINEER       BRAZIL   \n",
       "21322  25-34  Accounting, Banking & Finance     MANAGER        INDIA   \n",
       "18827  18-24              Computing or Tech         SWE     MALAYSIA   \n",
       "21036  25-34                      Insurance  SPECIALIST          USA   \n",
       "\n",
       "      Work experience Work experience in field  \\\n",
       "11692   21 - 30 years            11 - 20 years   \n",
       "21320     2 - 4 years              2 - 4 years   \n",
       "16722   11 - 20 years           1 year or less   \n",
       "11332     2 - 4 years              2 - 4 years   \n",
       "603     11 - 20 years            11 - 20 years   \n",
       "8380     8 - 10 years             8 - 10 years   \n",
       "2639    11 - 20 years             8 - 10 years   \n",
       "21322   11 - 20 years            11 - 20 years   \n",
       "18827  1 year or less           1 year or less   \n",
       "21036       5-7 years                5-7 years   \n",
       "\n",
       "                                Education Gender  \\\n",
       "11692                         High School  Woman   \n",
       "21320  Professional degree (MD, JD, etc.)    Man   \n",
       "16722                      College degree    Man   \n",
       "11332                     Master's degree  Woman   \n",
       "603                        College degree  Woman   \n",
       "8380                      Master's degree  Woman   \n",
       "2639                      Master's degree  Woman   \n",
       "21322                      College degree  Woman   \n",
       "18827                      College degree    Man   \n",
       "21036                      College degree  Woman   \n",
       "\n",
       "                                                    Race       Total  \n",
       "11692  Another option not listed here or prefer not t...   52993.200  \n",
       "21320                            Asian or Asian American   14580.000  \n",
       "16722          Middle Eastern or Northern African, White  136231.200  \n",
       "11332                            Asian or Asian American   22705.800  \n",
       "603                  Hispanic, Latino, or Spanish origin    4774.192  \n",
       "8380                                               White   88620.000  \n",
       "2639                 Hispanic, Latino, or Spanish origin   37312.100  \n",
       "21322  Asian or Asian American, Another option not li...   22501.800  \n",
       "18827                            Asian or Asian American   10101.600  \n",
       "21036                                              White   74000.000  "
      ]
     },
     "execution_count": 382,
     "metadata": {},
     "output_type": "execute_result"
    }
   ],
   "source": [
    "data.drop(columns=[\"Currency\", \"Alternate Currency\", \"US State\", \"US City\"], inplace=True)\n",
    "data.sample(10)"
   ]
  },
  {
   "cell_type": "code",
   "execution_count": 383,
   "id": "6031a36a",
   "metadata": {},
   "outputs": [
    {
     "data": {
      "text/plain": [
       "Index(['Age', 'Industry', 'Job Title', 'Country', 'Work experience',\n",
       "       'Work experience in field', 'Education', 'Gender', 'Race', 'Total'],\n",
       "      dtype='object')"
      ]
     },
     "execution_count": 383,
     "metadata": {},
     "output_type": "execute_result"
    }
   ],
   "source": [
    "data.columns"
   ]
  },
  {
   "cell_type": "markdown",
   "id": "75129fe6",
   "metadata": {},
   "source": [
    "### NOTE:\n",
    "We can also create income brackets, which would turn our only numerical label into a categorical label. \n",
    "For the brackets, the tax brackets for income in the United States were used\n",
    "**data[\"Total\"] = pd.cut(data[\"Total\"], [0,11000, 44725, 95375, 182100, 231250, 578125 ,float(\"inf\")])\n",
    "data.Total.value_counts()**\n",
    "\n",
    "This will be done during the **modeling phase** of the project. For now, the Total value is left as a *float* type."
   ]
  },
  {
   "cell_type": "markdown",
   "id": "8115a513",
   "metadata": {},
   "source": [
    "# Exploratory Analysis of the Cleaned Data\n",
    "\n",
    "Now that the data is in a consistent state, we carry out a bit more exploration of the data for better understanding before starting the **modeling phase**.\n",
    "\n",
    "The first observation we make, as evidenced below, is that most fields are categorical, with only `Total` column being numerical. \n",
    "\n",
    "This is because the categories that could be numerical or boolean, such as `Age` and `Gender`, include a window for different values, and for Gender, there is the possibility to include non-binary genders. "
   ]
  },
  {
   "cell_type": "code",
   "execution_count": 384,
   "id": "7289c949",
   "metadata": {},
   "outputs": [
    {
     "data": {
      "text/plain": [
       "USA                    13\n",
       "DENMARK                12\n",
       "NORWAY                 12\n",
       "INDIA                  11\n",
       "SINGAPORE              11\n",
       "AUSTRALIA               9\n",
       "MALAYSIA                8\n",
       "BRAZIL                  8\n",
       "POLAND                  8\n",
       "CZECH REPUBLIC          6\n",
       "ARGENTINA               6\n",
       "PHILIPPINES             6\n",
       "ISRAEL                  6\n",
       "CHINA                   4\n",
       "NEW ZEALAND             4\n",
       "MEXICO                  4\n",
       "SOUTH KOREA             4\n",
       "CANADA                  4\n",
       "THAILAND                3\n",
       "INDONESIA               2\n",
       "COLOMBIA                2\n",
       "TAIWAN                  2\n",
       "SRI LANKA               1\n",
       "SAUDI ARABIA            1\n",
       "IRELAND                 1\n",
       "CROATIA                 1\n",
       "SOUTH AFRICA            1\n",
       "TURKEY                  1\n",
       "UK                      1\n",
       "SCOTLAND                1\n",
       "TRINIDAD AND TOBAGO     1\n",
       "HUNGARY                 1\n",
       "SWEDEN                  1\n",
       "KUWAIT                  1\n",
       "SWITZERLAND             1\n",
       "NIGERIA                 1\n",
       "Name: Country, dtype: int64"
      ]
     },
     "execution_count": 384,
     "metadata": {},
     "output_type": "execute_result"
    }
   ],
   "source": [
    "data.Country.value_counts()"
   ]
  },
  {
   "cell_type": "code",
   "execution_count": 385,
   "id": "20e671d0",
   "metadata": {},
   "outputs": [
    {
     "name": "stdout",
     "output_type": "stream",
     "text": [
      "<class 'pandas.core.frame.DataFrame'>\n",
      "Int64Index: 159 entries, 434 to 27902\n",
      "Data columns (total 10 columns):\n",
      " #   Column                    Non-Null Count  Dtype  \n",
      "---  ------                    --------------  -----  \n",
      " 0   Age                       159 non-null    object \n",
      " 1   Industry                  158 non-null    object \n",
      " 2   Job Title                 159 non-null    object \n",
      " 3   Country                   159 non-null    object \n",
      " 4   Work experience           159 non-null    object \n",
      " 5   Work experience in field  159 non-null    object \n",
      " 6   Education                 159 non-null    object \n",
      " 7   Gender                    159 non-null    object \n",
      " 8   Race                      159 non-null    object \n",
      " 9   Total                     159 non-null    float64\n",
      "dtypes: float64(1), object(9)\n",
      "memory usage: 17.7+ KB\n"
     ]
    }
   ],
   "source": [
    "data.info()"
   ]
  },
  {
   "cell_type": "code",
   "execution_count": 403,
   "id": "ea1f36ea",
   "metadata": {},
   "outputs": [
    {
     "data": {
      "text/plain": [
       "<AxesSubplot:xlabel='Gender'>"
      ]
     },
     "execution_count": 403,
     "metadata": {},
     "output_type": "execute_result"
    },
    {
     "data": {
      "image/png": "[encoded data removed]",
      "text/plain": [
       "<Figure size 864x432 with 1 Axes>"
      ]
     },
     "metadata": {
      "needs_background": "light"
     },
     "output_type": "display_data"
    }
   ],
   "source": []
  },
  {
   "cell_type": "code",
   "execution_count": 390,
   "id": "b4fc758a",
   "metadata": {},
   "outputs": [
    {
     "data": {
      "text/plain": [
       "Industry\n",
       "Accounting, Banking & Finance            57564.56\n",
       "Agriculture or Forestry                  61129.62\n",
       "Art & Design                             82152.50\n",
       "Biotech (R&D)                            82593.84\n",
       "Business or Consulting                   13963.62\n",
       "Clinical Research                        90636.00\n",
       "Computing or Tech                        64452.59\n",
       "ESL Teacher                              28224.00\n",
       "Education (Higher Education)             56274.15\n",
       "Education (Primary/Secondary)            44322.87\n",
       "Energy / renewables                     109470.70\n",
       "Engineering or Manufacturing             36694.96\n",
       "Environment                             486107.00\n",
       "Government and Public Administration     60571.67\n",
       "Health care                              73950.63\n",
       "Insurance                                49096.53\n",
       "Intergovernmental organization           69012.00\n",
       "Law                                      48785.42\n",
       "Marketing, Advertising & PR              16604.65\n",
       "Media & Digital                          41819.24\n",
       "Nonprofits                               58157.33\n",
       "Oil                                      77464.02\n",
       "Property or Construction                 51500.00\n",
       "Recruitment or HR                        14777.91\n",
       "Research                                 81905.70\n",
       "Retail                                   16167.43\n",
       "Sales                                    88362.00\n",
       "Scientist                                31930.00\n",
       "Security and manufacturing company        8432.64\n",
       "Translation                               4885.58\n",
       "Transport or Logistics                   52993.20\n",
       "Utilities & Telecommunications           77658.37\n",
       "translation                              50556.00\n",
       "Name: Total, dtype: float64"
      ]
     },
     "execution_count": 390,
     "metadata": {},
     "output_type": "execute_result"
    }
   ],
   "source": []
  },
  {
   "cell_type": "markdown",
   "id": "89024e49",
   "metadata": {},
   "source": [
    "## Visualization\n",
    "Here we give pictorial view of how cleaned data look like."
   ]
  },
  {
   "cell_type": "markdown",
   "id": "7e47883d",
   "metadata": {},
   "source": [
    "### Distributions of Total Earnings (Annual Salary + Bonus)"
   ]
  },
  {
   "cell_type": "code",
   "execution_count": 388,
   "id": "2b069813",
   "metadata": {},
   "outputs": [
    {
     "data": {
      "image/png": "[encoded data removed]",
      "text/plain": [
       "<Figure size 432x288 with 1 Axes>"
      ]
     },
     "metadata": {
      "needs_background": "light"
     },
     "output_type": "display_data"
    }
   ],
   "source": [
    "sns.histplot(data=data, x=\"Total\", color=\"skyblue\", kde=True)\n",
    "plt.show()"
   ]
  },
  {
   "cell_type": "code",
   "execution_count": null,
   "id": "b7430529",
   "metadata": {},
   "outputs": [],
   "source": [
    "sns.displot(data, x='fare',binwidth=15)"
   ]
  },
  {
   "cell_type": "markdown",
   "id": "673ecd94",
   "metadata": {},
   "source": [
    "### Distributions of Total Earnings by Gender"
   ]
  },
  {
   "cell_type": "code",
   "execution_count": 405,
   "id": "819c29ef",
   "metadata": {},
   "outputs": [
    {
     "data": {
      "text/plain": [
       "<AxesSubplot:xlabel='Gender'>"
      ]
     },
     "execution_count": 405,
     "metadata": {},
     "output_type": "execute_result"
    },
    {
     "data": {
      "image/png": "[encoded data removed]",
      "text/plain": [
       "<Figure size 720x432 with 1 Axes>"
      ]
     },
     "metadata": {
      "needs_background": "light"
     },
     "output_type": "display_data"
    }
   ],
   "source": [
    "gender_earnings = round(data.groupby(\"Gender\")['Total'].mean(),2)\n",
    "gender_earnings.plot(kind='bar', figsize=(10, 6))"
   ]
  },
  {
   "cell_type": "code",
   "execution_count": 258,
   "id": "a485dd6a",
   "metadata": {},
   "outputs": [
    {
     "data": {
      "text/plain": [
       "<seaborn.axisgrid.FacetGrid at 0x7f65fcf1bee0>"
      ]
     },
     "execution_count": 258,
     "metadata": {},
     "output_type": "execute_result"
    },
    {
     "data": {
      "image/png": "[encoded data removed]",
      "text/plain": [
       "<Figure size 542.375x360 with 1 Axes>"
      ]
     },
     "metadata": {
      "needs_background": "light"
     },
     "output_type": "display_data"
    }
   ],
   "source": [
    "sns.displot(data, x=\"Total\", hue=\"Gender\",kde=True)"
   ]
  },
  {
   "cell_type": "code",
   "execution_count": 259,
   "id": "7331ceac",
   "metadata": {
    "scrolled": true
   },
   "outputs": [
    {
     "data": {
      "text/plain": [
       "<seaborn.axisgrid.FacetGrid at 0x7f65fab658d0>"
      ]
     },
     "execution_count": 259,
     "metadata": {},
     "output_type": "execute_result"
    },
    {
     "data": {
      "image/png": "[encoded data removed]",
      "text/plain": [
       "<Figure size 1440x360 with 4 Axes>"
      ]
     },
     "metadata": {
      "needs_background": "light"
     },
     "output_type": "display_data"
    }
   ],
   "source": [
    "sns.displot(data, x=\"Total\", col=\"Gender\")"
   ]
  },
  {
   "cell_type": "code",
   "execution_count": 260,
   "id": "4795db92",
   "metadata": {
    "scrolled": true
   },
   "outputs": [
    {
     "data": {
      "text/plain": [
       "<AxesSubplot:xlabel='Total', ylabel='Density'>"
      ]
     },
     "execution_count": 260,
     "metadata": {},
     "output_type": "execute_result"
    },
    {
     "data": {
      "image/png": "[encoded data removed]",
      "text/plain": [
       "<Figure size 432x288 with 1 Axes>"
      ]
     },
     "metadata": {
      "needs_background": "light"
     },
     "output_type": "display_data"
    }
   ],
   "source": [
    "sns.kdeplot(data=data, x=\"Total\", hue=\"Gender\",fill=True, common_norm=False,\n",
    "   alpha=.5, linewidth=0,warn_singular=False)"
   ]
  },
  {
   "cell_type": "markdown",
   "id": "f0382ed5",
   "metadata": {},
   "source": [
    "**Unadjusted Salary Gap Between Man & Woman**"
   ]
  },
  {
   "cell_type": "code",
   "execution_count": 261,
   "id": "5937f17f",
   "metadata": {},
   "outputs": [
    {
     "name": "stdout",
     "output_type": "stream",
     "text": [
      "58380.84377378639\n"
     ]
    }
   ],
   "source": [
    "female_average_salary = np.mean(data[data['Gender']==\"Woman\"]['Total'])\n",
    "print(female_average_salary)"
   ]
  },
  {
   "cell_type": "code",
   "execution_count": 262,
   "id": "5dd66251",
   "metadata": {},
   "outputs": [
    {
     "name": "stdout",
     "output_type": "stream",
     "text": [
      "56247.889800000004\n"
     ]
    }
   ],
   "source": [
    "male_average_salary = np.mean(data[data['Gender']==\"Man\"]['Total'])\n",
    "print(male_average_salary)"
   ]
  },
  {
   "cell_type": "code",
   "execution_count": 407,
   "id": "ee212336",
   "metadata": {},
   "outputs": [
    {
     "name": "stdout",
     "output_type": "stream",
     "text": [
      "Unadjusted Salary Gap: 2132.95\n"
     ]
    }
   ],
   "source": [
    "print(\"Unadjusted Salary Gap: {:.2f}\".format(female_average_salary-male_average_salary))"
   ]
  },
  {
   "cell_type": "markdown",
   "id": "7dc0d0a2",
   "metadata": {},
   "source": [
    "*On the surface, the data show that women on average earn **USD2,132.95** more than than men.* This of does not take into consideration other gender preferences."
   ]
  },
  {
   "cell_type": "markdown",
   "id": "e61cd0d0",
   "metadata": {},
   "source": [
    "### Distributions of Total Earnings by Different Age Groups"
   ]
  },
  {
   "cell_type": "code",
   "execution_count": 412,
   "id": "6eb52e7f",
   "metadata": {},
   "outputs": [
    {
     "data": {
      "text/plain": [
       "Text(0, 0.5, 'Earnings')"
      ]
     },
     "execution_count": 412,
     "metadata": {},
     "output_type": "execute_result"
    },
    {
     "data": {
      "image/png": "[encoded data removed]",
      "text/plain": [
       "<Figure size 720x432 with 1 Axes>"
      ]
     },
     "metadata": {
      "needs_background": "light"
     },
     "output_type": "display_data"
    }
   ],
   "source": [
    "age_group_earnings = round(data.groupby(\"Age\")['Total'].mean(),2)\n",
    "age_group_earnings.plot(kind='bar', figsize=(10, 6))\n",
    "plt.title('Total Earnings by Age Groups')\n",
    "plt.xlabel(\"Age Groups\")\n",
    "plt.ylabel(\"Earnings\")"
   ]
  },
  {
   "cell_type": "code",
   "execution_count": 408,
   "id": "6723fd5c",
   "metadata": {},
   "outputs": [
    {
     "data": {
      "text/plain": [
       "<seaborn.axisgrid.FacetGrid at 0x7f65f9af23b0>"
      ]
     },
     "execution_count": 408,
     "metadata": {},
     "output_type": "execute_result"
    },
    {
     "data": {
      "image/png": "[encoded data removed]",
      "text/plain": [
       "<Figure size 425x360 with 1 Axes>"
      ]
     },
     "metadata": {
      "needs_background": "light"
     },
     "output_type": "display_data"
    }
   ],
   "source": [
    "sns.displot(data, x=\"Total\", hue=\"Age\",kde=True)"
   ]
  },
  {
   "cell_type": "code",
   "execution_count": 36,
   "id": "d8ed4a5b",
   "metadata": {
    "scrolled": false
   },
   "outputs": [
    {
     "data": {
      "text/plain": [
       "<seaborn.axisgrid.FacetGrid at 0x7f660082e0e0>"
      ]
     },
     "execution_count": 36,
     "metadata": {},
     "output_type": "execute_result"
    },
    {
     "data": {
      "image/png": "[encoded data removed]",
      "text/plain": [
       "<Figure size 1800x360 with 5 Axes>"
      ]
     },
     "metadata": {
      "needs_background": "light"
     },
     "output_type": "display_data"
    }
   ],
   "source": [
    "sns.displot(data, x=\"Total\", col=\"Age\")"
   ]
  },
  {
   "cell_type": "code",
   "execution_count": 265,
   "id": "efb05559",
   "metadata": {},
   "outputs": [
    {
     "data": {
      "image/png": "[encoded data removed]",
      "text/plain": [
       "<Figure size 207.375x180 with 2 Axes>"
      ]
     },
     "metadata": {
      "needs_background": "light"
     },
     "output_type": "display_data"
    }
   ],
   "source": [
    "sns.pairplot(data, hue ='Age')\n",
    "plt.show()"
   ]
  },
  {
   "cell_type": "code",
   "execution_count": 399,
   "id": "5f71cdd8",
   "metadata": {
    "scrolled": true
   },
   "outputs": [
    {
     "data": {
      "image/png": "[encoded data removed]",
      "text/plain": [
       "<Figure size 864x432 with 1 Axes>"
      ]
     },
     "metadata": {
      "needs_background": "light"
     },
     "output_type": "display_data"
    }
   ],
   "source": [
    "industry_earnings = round(data.groupby(\"Industry\")['Total'].mean(),2)\n",
    "\n",
    "industry_earnings.plot(kind='bar',figsize=(12, 6)) \n",
    "plt.title('Industry Earnings') \n",
    "plt.xlabel('Industries') \n",
    "plt.ylabel('Total Earning (USD)') \n",
    "plt.show()"
   ]
  },
  {
   "cell_type": "code",
   "execution_count": 418,
   "id": "7a0e0a10",
   "metadata": {},
   "outputs": [
    {
     "data": {
      "text/plain": [
       "<seaborn.axisgrid.FacetGrid at 0x7f65f7033670>"
      ]
     },
     "execution_count": 418,
     "metadata": {},
     "output_type": "execute_result"
    },
    {
     "data": {
      "image/png": "[encoded data removed]",
      "text/plain": [
       "<Figure size 360x360 with 1 Axes>"
      ]
     },
     "metadata": {
      "needs_background": "light"
     },
     "output_type": "display_data"
    }
   ],
   "source": [
    "sns.displot(industry_earnings,kde=True)"
   ]
  },
  {
   "cell_type": "code",
   "execution_count": 266,
   "id": "bbdad30e",
   "metadata": {},
   "outputs": [
    {
     "ename": "ModuleNotFoundError",
     "evalue": "No module named 'matplotlib.layout_engine'",
     "output_type": "error",
     "traceback": [
      "\u001b[0;31m---------------------------------------------------------------------------\u001b[0m",
      "\u001b[0;31mModuleNotFoundError\u001b[0m                       Traceback (most recent call last)",
      "\u001b[0;32m~/dst1_env/lib/python3.10/site-packages/IPython/core/formatters.py\u001b[0m in \u001b[0;36m__call__\u001b[0;34m(self, obj)\u001b[0m\n\u001b[1;32m    700\u001b[0m                 \u001b[0mtype_pprinters\u001b[0m\u001b[0;34m=\u001b[0m\u001b[0mself\u001b[0m\u001b[0;34m.\u001b[0m\u001b[0mtype_printers\u001b[0m\u001b[0;34m,\u001b[0m\u001b[0;34m\u001b[0m\u001b[0;34m\u001b[0m\u001b[0m\n\u001b[1;32m    701\u001b[0m                 deferred_pprinters=self.deferred_printers)\n\u001b[0;32m--> 702\u001b[0;31m             \u001b[0mprinter\u001b[0m\u001b[0;34m.\u001b[0m\u001b[0mpretty\u001b[0m\u001b[0;34m(\u001b[0m\u001b[0mobj\u001b[0m\u001b[0;34m)\u001b[0m\u001b[0;34m\u001b[0m\u001b[0;34m\u001b[0m\u001b[0m\n\u001b[0m\u001b[1;32m    703\u001b[0m             \u001b[0mprinter\u001b[0m\u001b[0;34m.\u001b[0m\u001b[0mflush\u001b[0m\u001b[0;34m(\u001b[0m\u001b[0;34m)\u001b[0m\u001b[0;34m\u001b[0m\u001b[0;34m\u001b[0m\u001b[0m\n\u001b[1;32m    704\u001b[0m             \u001b[0;32mreturn\u001b[0m \u001b[0mstream\u001b[0m\u001b[0;34m.\u001b[0m\u001b[0mgetvalue\u001b[0m\u001b[0;34m(\u001b[0m\u001b[0;34m)\u001b[0m\u001b[0;34m\u001b[0m\u001b[0;34m\u001b[0m\u001b[0m\n",
      "\u001b[0;32m~/dst1_env/lib/python3.10/site-packages/IPython/lib/pretty.py\u001b[0m in \u001b[0;36mpretty\u001b[0;34m(self, obj)\u001b[0m\n\u001b[1;32m    392\u001b[0m                         \u001b[0;32mif\u001b[0m \u001b[0mcls\u001b[0m \u001b[0;32mis\u001b[0m \u001b[0;32mnot\u001b[0m \u001b[0mobject\u001b[0m\u001b[0;31m \u001b[0m\u001b[0;31m\\\u001b[0m\u001b[0;34m\u001b[0m\u001b[0;34m\u001b[0m\u001b[0m\n\u001b[1;32m    393\u001b[0m                                 \u001b[0;32mand\u001b[0m \u001b[0mcallable\u001b[0m\u001b[0;34m(\u001b[0m\u001b[0mcls\u001b[0m\u001b[0;34m.\u001b[0m\u001b[0m__dict__\u001b[0m\u001b[0;34m.\u001b[0m\u001b[0mget\u001b[0m\u001b[0;34m(\u001b[0m\u001b[0;34m'__repr__'\u001b[0m\u001b[0;34m)\u001b[0m\u001b[0;34m)\u001b[0m\u001b[0;34m:\u001b[0m\u001b[0;34m\u001b[0m\u001b[0;34m\u001b[0m\u001b[0m\n\u001b[0;32m--> 394\u001b[0;31m                             \u001b[0;32mreturn\u001b[0m \u001b[0m_repr_pprint\u001b[0m\u001b[0;34m(\u001b[0m\u001b[0mobj\u001b[0m\u001b[0;34m,\u001b[0m \u001b[0mself\u001b[0m\u001b[0;34m,\u001b[0m \u001b[0mcycle\u001b[0m\u001b[0;34m)\u001b[0m\u001b[0;34m\u001b[0m\u001b[0;34m\u001b[0m\u001b[0m\n\u001b[0m\u001b[1;32m    395\u001b[0m \u001b[0;34m\u001b[0m\u001b[0m\n\u001b[1;32m    396\u001b[0m             \u001b[0;32mreturn\u001b[0m \u001b[0m_default_pprint\u001b[0m\u001b[0;34m(\u001b[0m\u001b[0mobj\u001b[0m\u001b[0;34m,\u001b[0m \u001b[0mself\u001b[0m\u001b[0;34m,\u001b[0m \u001b[0mcycle\u001b[0m\u001b[0;34m)\u001b[0m\u001b[0;34m\u001b[0m\u001b[0;34m\u001b[0m\u001b[0m\n",
      "\u001b[0;32m~/dst1_env/lib/python3.10/site-packages/IPython/lib/pretty.py\u001b[0m in \u001b[0;36m_repr_pprint\u001b[0;34m(obj, p, cycle)\u001b[0m\n\u001b[1;32m    698\u001b[0m     \u001b[0;34m\"\"\"A pprint that just redirects to the normal repr function.\"\"\"\u001b[0m\u001b[0;34m\u001b[0m\u001b[0;34m\u001b[0m\u001b[0m\n\u001b[1;32m    699\u001b[0m     \u001b[0;31m# Find newlines and replace them with p.break_()\u001b[0m\u001b[0;34m\u001b[0m\u001b[0;34m\u001b[0m\u001b[0m\n\u001b[0;32m--> 700\u001b[0;31m     \u001b[0moutput\u001b[0m \u001b[0;34m=\u001b[0m \u001b[0mrepr\u001b[0m\u001b[0;34m(\u001b[0m\u001b[0mobj\u001b[0m\u001b[0;34m)\u001b[0m\u001b[0;34m\u001b[0m\u001b[0;34m\u001b[0m\u001b[0m\n\u001b[0m\u001b[1;32m    701\u001b[0m     \u001b[0mlines\u001b[0m \u001b[0;34m=\u001b[0m \u001b[0moutput\u001b[0m\u001b[0;34m.\u001b[0m\u001b[0msplitlines\u001b[0m\u001b[0;34m(\u001b[0m\u001b[0;34m)\u001b[0m\u001b[0;34m\u001b[0m\u001b[0;34m\u001b[0m\u001b[0m\n\u001b[1;32m    702\u001b[0m     \u001b[0;32mwith\u001b[0m \u001b[0mp\u001b[0m\u001b[0;34m.\u001b[0m\u001b[0mgroup\u001b[0m\u001b[0;34m(\u001b[0m\u001b[0;34m)\u001b[0m\u001b[0;34m:\u001b[0m\u001b[0;34m\u001b[0m\u001b[0;34m\u001b[0m\u001b[0m\n",
      "\u001b[0;32m/usr/local/lib/python3.10/dist-packages/plotnine/ggplot.py\u001b[0m in \u001b[0;36m__repr__\u001b[0;34m(self)\u001b[0m\n\u001b[1;32m    112\u001b[0m         \u001b[0mPrint\u001b[0m\u001b[0;34m/\u001b[0m\u001b[0mshow\u001b[0m \u001b[0mthe\u001b[0m \u001b[0mplot\u001b[0m\u001b[0;34m\u001b[0m\u001b[0;34m\u001b[0m\u001b[0m\n\u001b[1;32m    113\u001b[0m         \"\"\"\n\u001b[0;32m--> 114\u001b[0;31m         \u001b[0mfigure\u001b[0m \u001b[0;34m=\u001b[0m \u001b[0mself\u001b[0m\u001b[0;34m.\u001b[0m\u001b[0mdraw\u001b[0m\u001b[0;34m(\u001b[0m\u001b[0mshow\u001b[0m\u001b[0;34m=\u001b[0m\u001b[0;32mTrue\u001b[0m\u001b[0;34m)\u001b[0m\u001b[0;34m\u001b[0m\u001b[0;34m\u001b[0m\u001b[0m\n\u001b[0m\u001b[1;32m    115\u001b[0m \u001b[0;34m\u001b[0m\u001b[0m\n\u001b[1;32m    116\u001b[0m         \u001b[0mdpi\u001b[0m \u001b[0;34m=\u001b[0m \u001b[0mfigure\u001b[0m\u001b[0;34m.\u001b[0m\u001b[0mget_dpi\u001b[0m\u001b[0;34m(\u001b[0m\u001b[0;34m)\u001b[0m\u001b[0;34m\u001b[0m\u001b[0;34m\u001b[0m\u001b[0m\n",
      "\u001b[0;32m/usr/local/lib/python3.10/dist-packages/plotnine/ggplot.py\u001b[0m in \u001b[0;36mdraw\u001b[0;34m(self, show)\u001b[0m\n\u001b[1;32m    209\u001b[0m             \u001b[0mMatplotlib\u001b[0m \u001b[0mfigure\u001b[0m\u001b[0;34m\u001b[0m\u001b[0;34m\u001b[0m\u001b[0m\n\u001b[1;32m    210\u001b[0m         \"\"\"\n\u001b[0;32m--> 211\u001b[0;31m         \u001b[0;32mfrom\u001b[0m \u001b[0;34m.\u001b[0m\u001b[0m_mpl\u001b[0m\u001b[0;34m.\u001b[0m\u001b[0mlayout_engine\u001b[0m \u001b[0;32mimport\u001b[0m \u001b[0mPlotnineLayoutEngine\u001b[0m\u001b[0;34m\u001b[0m\u001b[0;34m\u001b[0m\u001b[0m\n\u001b[0m\u001b[1;32m    212\u001b[0m \u001b[0;34m\u001b[0m\u001b[0m\n\u001b[1;32m    213\u001b[0m         \u001b[0;31m# Do not draw if drawn already.\u001b[0m\u001b[0;34m\u001b[0m\u001b[0;34m\u001b[0m\u001b[0m\n",
      "\u001b[0;32m/usr/local/lib/python3.10/dist-packages/plotnine/_mpl/layout_engine.py\u001b[0m in \u001b[0;36m<module>\u001b[0;34m\u001b[0m\n\u001b[1;32m      4\u001b[0m \u001b[0;32mfrom\u001b[0m \u001b[0mdataclasses\u001b[0m \u001b[0;32mimport\u001b[0m \u001b[0masdict\u001b[0m\u001b[0;34m,\u001b[0m \u001b[0mdataclass\u001b[0m\u001b[0;34m\u001b[0m\u001b[0;34m\u001b[0m\u001b[0m\n\u001b[1;32m      5\u001b[0m \u001b[0;34m\u001b[0m\u001b[0m\n\u001b[0;32m----> 6\u001b[0;31m \u001b[0;32mfrom\u001b[0m \u001b[0mmatplotlib\u001b[0m\u001b[0;34m.\u001b[0m\u001b[0mlayout_engine\u001b[0m \u001b[0;32mimport\u001b[0m \u001b[0mLayoutEngine\u001b[0m\u001b[0;34m\u001b[0m\u001b[0;34m\u001b[0m\u001b[0m\n\u001b[0m\u001b[1;32m      7\u001b[0m \u001b[0;34m\u001b[0m\u001b[0m\n\u001b[1;32m      8\u001b[0m \u001b[0;32mif\u001b[0m \u001b[0mtyping\u001b[0m\u001b[0;34m.\u001b[0m\u001b[0mTYPE_CHECKING\u001b[0m\u001b[0;34m:\u001b[0m\u001b[0;34m\u001b[0m\u001b[0;34m\u001b[0m\u001b[0m\n",
      "\u001b[0;31mModuleNotFoundError\u001b[0m: No module named 'matplotlib.layout_engine'"
     ]
    }
   ],
   "source": [
    "p = (\n",
    "ggplot(data, aes(x=\"Total\", color=\"Gender\"))+\n",
    "    geom_histogram(fill=\"white\", position=\"dodge\")\n",
    ")\n",
    "p"
   ]
  },
  {
   "cell_type": "code",
   "execution_count": 419,
   "id": "04d1b941",
   "metadata": {},
   "outputs": [
    {
     "data": {
      "text/plain": [
       "Woman                            103\n",
       "Man                               50\n",
       "Other or prefer not to answer      5\n",
       "Non-binary                         1\n",
       "Name: Gender, dtype: int64"
      ]
     },
     "execution_count": 419,
     "metadata": {},
     "output_type": "execute_result"
    }
   ],
   "source": [
    "data.Gender.value_counts()"
   ]
  },
  {
   "cell_type": "markdown",
   "id": "e82e8712",
   "metadata": {},
   "source": [
    "It can be observed that not only most of the responses in the survey are from women, and most of the original >120000 responses have been deleted. \n",
    "It cannot be observed a direct relationship between Gender and Total"
   ]
  },
  {
   "cell_type": "code",
   "execution_count": 25,
   "id": "3f064666",
   "metadata": {},
   "outputs": [
    {
     "ename": "ModuleNotFoundError",
     "evalue": "No module named 'matplotlib.layout_engine'",
     "output_type": "error",
     "traceback": [
      "\u001b[0;31m---------------------------------------------------------------------------\u001b[0m",
      "\u001b[0;31mModuleNotFoundError\u001b[0m                       Traceback (most recent call last)",
      "\u001b[0;32m~/dst1_env/lib/python3.10/site-packages/IPython/core/formatters.py\u001b[0m in \u001b[0;36m__call__\u001b[0;34m(self, obj)\u001b[0m\n\u001b[1;32m    700\u001b[0m                 \u001b[0mtype_pprinters\u001b[0m\u001b[0;34m=\u001b[0m\u001b[0mself\u001b[0m\u001b[0;34m.\u001b[0m\u001b[0mtype_printers\u001b[0m\u001b[0;34m,\u001b[0m\u001b[0;34m\u001b[0m\u001b[0;34m\u001b[0m\u001b[0m\n\u001b[1;32m    701\u001b[0m                 deferred_pprinters=self.deferred_printers)\n\u001b[0;32m--> 702\u001b[0;31m             \u001b[0mprinter\u001b[0m\u001b[0;34m.\u001b[0m\u001b[0mpretty\u001b[0m\u001b[0;34m(\u001b[0m\u001b[0mobj\u001b[0m\u001b[0;34m)\u001b[0m\u001b[0;34m\u001b[0m\u001b[0;34m\u001b[0m\u001b[0m\n\u001b[0m\u001b[1;32m    703\u001b[0m             \u001b[0mprinter\u001b[0m\u001b[0;34m.\u001b[0m\u001b[0mflush\u001b[0m\u001b[0;34m(\u001b[0m\u001b[0;34m)\u001b[0m\u001b[0;34m\u001b[0m\u001b[0;34m\u001b[0m\u001b[0m\n\u001b[1;32m    704\u001b[0m             \u001b[0;32mreturn\u001b[0m \u001b[0mstream\u001b[0m\u001b[0;34m.\u001b[0m\u001b[0mgetvalue\u001b[0m\u001b[0;34m(\u001b[0m\u001b[0;34m)\u001b[0m\u001b[0;34m\u001b[0m\u001b[0;34m\u001b[0m\u001b[0m\n",
      "\u001b[0;32m~/dst1_env/lib/python3.10/site-packages/IPython/lib/pretty.py\u001b[0m in \u001b[0;36mpretty\u001b[0;34m(self, obj)\u001b[0m\n\u001b[1;32m    392\u001b[0m                         \u001b[0;32mif\u001b[0m \u001b[0mcls\u001b[0m \u001b[0;32mis\u001b[0m \u001b[0;32mnot\u001b[0m \u001b[0mobject\u001b[0m\u001b[0;31m \u001b[0m\u001b[0;31m\\\u001b[0m\u001b[0;34m\u001b[0m\u001b[0;34m\u001b[0m\u001b[0m\n\u001b[1;32m    393\u001b[0m                                 \u001b[0;32mand\u001b[0m \u001b[0mcallable\u001b[0m\u001b[0;34m(\u001b[0m\u001b[0mcls\u001b[0m\u001b[0;34m.\u001b[0m\u001b[0m__dict__\u001b[0m\u001b[0;34m.\u001b[0m\u001b[0mget\u001b[0m\u001b[0;34m(\u001b[0m\u001b[0;34m'__repr__'\u001b[0m\u001b[0;34m)\u001b[0m\u001b[0;34m)\u001b[0m\u001b[0;34m:\u001b[0m\u001b[0;34m\u001b[0m\u001b[0;34m\u001b[0m\u001b[0m\n\u001b[0;32m--> 394\u001b[0;31m                             \u001b[0;32mreturn\u001b[0m \u001b[0m_repr_pprint\u001b[0m\u001b[0;34m(\u001b[0m\u001b[0mobj\u001b[0m\u001b[0;34m,\u001b[0m \u001b[0mself\u001b[0m\u001b[0;34m,\u001b[0m \u001b[0mcycle\u001b[0m\u001b[0;34m)\u001b[0m\u001b[0;34m\u001b[0m\u001b[0;34m\u001b[0m\u001b[0m\n\u001b[0m\u001b[1;32m    395\u001b[0m \u001b[0;34m\u001b[0m\u001b[0m\n\u001b[1;32m    396\u001b[0m             \u001b[0;32mreturn\u001b[0m \u001b[0m_default_pprint\u001b[0m\u001b[0;34m(\u001b[0m\u001b[0mobj\u001b[0m\u001b[0;34m,\u001b[0m \u001b[0mself\u001b[0m\u001b[0;34m,\u001b[0m \u001b[0mcycle\u001b[0m\u001b[0;34m)\u001b[0m\u001b[0;34m\u001b[0m\u001b[0;34m\u001b[0m\u001b[0m\n",
      "\u001b[0;32m~/dst1_env/lib/python3.10/site-packages/IPython/lib/pretty.py\u001b[0m in \u001b[0;36m_repr_pprint\u001b[0;34m(obj, p, cycle)\u001b[0m\n\u001b[1;32m    698\u001b[0m     \u001b[0;34m\"\"\"A pprint that just redirects to the normal repr function.\"\"\"\u001b[0m\u001b[0;34m\u001b[0m\u001b[0;34m\u001b[0m\u001b[0m\n\u001b[1;32m    699\u001b[0m     \u001b[0;31m# Find newlines and replace them with p.break_()\u001b[0m\u001b[0;34m\u001b[0m\u001b[0;34m\u001b[0m\u001b[0m\n\u001b[0;32m--> 700\u001b[0;31m     \u001b[0moutput\u001b[0m \u001b[0;34m=\u001b[0m \u001b[0mrepr\u001b[0m\u001b[0;34m(\u001b[0m\u001b[0mobj\u001b[0m\u001b[0;34m)\u001b[0m\u001b[0;34m\u001b[0m\u001b[0;34m\u001b[0m\u001b[0m\n\u001b[0m\u001b[1;32m    701\u001b[0m     \u001b[0mlines\u001b[0m \u001b[0;34m=\u001b[0m \u001b[0moutput\u001b[0m\u001b[0;34m.\u001b[0m\u001b[0msplitlines\u001b[0m\u001b[0;34m(\u001b[0m\u001b[0;34m)\u001b[0m\u001b[0;34m\u001b[0m\u001b[0;34m\u001b[0m\u001b[0m\n\u001b[1;32m    702\u001b[0m     \u001b[0;32mwith\u001b[0m \u001b[0mp\u001b[0m\u001b[0;34m.\u001b[0m\u001b[0mgroup\u001b[0m\u001b[0;34m(\u001b[0m\u001b[0;34m)\u001b[0m\u001b[0;34m:\u001b[0m\u001b[0;34m\u001b[0m\u001b[0;34m\u001b[0m\u001b[0m\n",
      "\u001b[0;32m/usr/local/lib/python3.10/dist-packages/plotnine/ggplot.py\u001b[0m in \u001b[0;36m__repr__\u001b[0;34m(self)\u001b[0m\n\u001b[1;32m    112\u001b[0m         \u001b[0mPrint\u001b[0m\u001b[0;34m/\u001b[0m\u001b[0mshow\u001b[0m \u001b[0mthe\u001b[0m \u001b[0mplot\u001b[0m\u001b[0;34m\u001b[0m\u001b[0;34m\u001b[0m\u001b[0m\n\u001b[1;32m    113\u001b[0m         \"\"\"\n\u001b[0;32m--> 114\u001b[0;31m         \u001b[0mfigure\u001b[0m \u001b[0;34m=\u001b[0m \u001b[0mself\u001b[0m\u001b[0;34m.\u001b[0m\u001b[0mdraw\u001b[0m\u001b[0;34m(\u001b[0m\u001b[0mshow\u001b[0m\u001b[0;34m=\u001b[0m\u001b[0;32mTrue\u001b[0m\u001b[0;34m)\u001b[0m\u001b[0;34m\u001b[0m\u001b[0;34m\u001b[0m\u001b[0m\n\u001b[0m\u001b[1;32m    115\u001b[0m \u001b[0;34m\u001b[0m\u001b[0m\n\u001b[1;32m    116\u001b[0m         \u001b[0mdpi\u001b[0m \u001b[0;34m=\u001b[0m \u001b[0mfigure\u001b[0m\u001b[0;34m.\u001b[0m\u001b[0mget_dpi\u001b[0m\u001b[0;34m(\u001b[0m\u001b[0;34m)\u001b[0m\u001b[0;34m\u001b[0m\u001b[0;34m\u001b[0m\u001b[0m\n",
      "\u001b[0;32m/usr/local/lib/python3.10/dist-packages/plotnine/ggplot.py\u001b[0m in \u001b[0;36mdraw\u001b[0;34m(self, show)\u001b[0m\n\u001b[1;32m    209\u001b[0m             \u001b[0mMatplotlib\u001b[0m \u001b[0mfigure\u001b[0m\u001b[0;34m\u001b[0m\u001b[0;34m\u001b[0m\u001b[0m\n\u001b[1;32m    210\u001b[0m         \"\"\"\n\u001b[0;32m--> 211\u001b[0;31m         \u001b[0;32mfrom\u001b[0m \u001b[0;34m.\u001b[0m\u001b[0m_mpl\u001b[0m\u001b[0;34m.\u001b[0m\u001b[0mlayout_engine\u001b[0m \u001b[0;32mimport\u001b[0m \u001b[0mPlotnineLayoutEngine\u001b[0m\u001b[0;34m\u001b[0m\u001b[0;34m\u001b[0m\u001b[0m\n\u001b[0m\u001b[1;32m    212\u001b[0m \u001b[0;34m\u001b[0m\u001b[0m\n\u001b[1;32m    213\u001b[0m         \u001b[0;31m# Do not draw if drawn already.\u001b[0m\u001b[0;34m\u001b[0m\u001b[0;34m\u001b[0m\u001b[0m\n",
      "\u001b[0;32m/usr/local/lib/python3.10/dist-packages/plotnine/_mpl/layout_engine.py\u001b[0m in \u001b[0;36m<module>\u001b[0;34m\u001b[0m\n\u001b[1;32m      4\u001b[0m \u001b[0;32mfrom\u001b[0m \u001b[0mdataclasses\u001b[0m \u001b[0;32mimport\u001b[0m \u001b[0masdict\u001b[0m\u001b[0;34m,\u001b[0m \u001b[0mdataclass\u001b[0m\u001b[0;34m\u001b[0m\u001b[0;34m\u001b[0m\u001b[0m\n\u001b[1;32m      5\u001b[0m \u001b[0;34m\u001b[0m\u001b[0m\n\u001b[0;32m----> 6\u001b[0;31m \u001b[0;32mfrom\u001b[0m \u001b[0mmatplotlib\u001b[0m\u001b[0;34m.\u001b[0m\u001b[0mlayout_engine\u001b[0m \u001b[0;32mimport\u001b[0m \u001b[0mLayoutEngine\u001b[0m\u001b[0;34m\u001b[0m\u001b[0;34m\u001b[0m\u001b[0m\n\u001b[0m\u001b[1;32m      7\u001b[0m \u001b[0;34m\u001b[0m\u001b[0m\n\u001b[1;32m      8\u001b[0m \u001b[0;32mif\u001b[0m \u001b[0mtyping\u001b[0m\u001b[0;34m.\u001b[0m\u001b[0mTYPE_CHECKING\u001b[0m\u001b[0;34m:\u001b[0m\u001b[0;34m\u001b[0m\u001b[0;34m\u001b[0m\u001b[0m\n",
      "\u001b[0;31mModuleNotFoundError\u001b[0m: No module named 'matplotlib.layout_engine'"
     ]
    }
   ],
   "source": [
    "p = (\n",
    "ggplot(data, aes(x=\"Total\", color=\"Age\"))+\n",
    "    geom_histogram(fill=\"white\", position=\"dodge\")\n",
    ")\n",
    "p"
   ]
  },
  {
   "cell_type": "markdown",
   "id": "bee2ff48",
   "metadata": {},
   "source": [
    "It can be observed that most of the participants are in the range of 25-34, and most of them are in the Total range between 0 and 50k. \n",
    "Unfortunately, as previously seen, most of the participants are in the range of 25-34, which creates a bias in any model that can be produced with this data (after cleaning). "
   ]
  },
  {
   "cell_type": "code",
   "execution_count": 26,
   "id": "7ec19e15",
   "metadata": {},
   "outputs": [
    {
     "ename": "ModuleNotFoundError",
     "evalue": "No module named 'matplotlib.layout_engine'",
     "output_type": "error",
     "traceback": [
      "\u001b[0;31m---------------------------------------------------------------------------\u001b[0m",
      "\u001b[0;31mModuleNotFoundError\u001b[0m                       Traceback (most recent call last)",
      "\u001b[0;32m~/dst1_env/lib/python3.10/site-packages/IPython/core/formatters.py\u001b[0m in \u001b[0;36m__call__\u001b[0;34m(self, obj)\u001b[0m\n\u001b[1;32m    700\u001b[0m                 \u001b[0mtype_pprinters\u001b[0m\u001b[0;34m=\u001b[0m\u001b[0mself\u001b[0m\u001b[0;34m.\u001b[0m\u001b[0mtype_printers\u001b[0m\u001b[0;34m,\u001b[0m\u001b[0;34m\u001b[0m\u001b[0;34m\u001b[0m\u001b[0m\n\u001b[1;32m    701\u001b[0m                 deferred_pprinters=self.deferred_printers)\n\u001b[0;32m--> 702\u001b[0;31m             \u001b[0mprinter\u001b[0m\u001b[0;34m.\u001b[0m\u001b[0mpretty\u001b[0m\u001b[0;34m(\u001b[0m\u001b[0mobj\u001b[0m\u001b[0;34m)\u001b[0m\u001b[0;34m\u001b[0m\u001b[0;34m\u001b[0m\u001b[0m\n\u001b[0m\u001b[1;32m    703\u001b[0m             \u001b[0mprinter\u001b[0m\u001b[0;34m.\u001b[0m\u001b[0mflush\u001b[0m\u001b[0;34m(\u001b[0m\u001b[0;34m)\u001b[0m\u001b[0;34m\u001b[0m\u001b[0;34m\u001b[0m\u001b[0m\n\u001b[1;32m    704\u001b[0m             \u001b[0;32mreturn\u001b[0m \u001b[0mstream\u001b[0m\u001b[0;34m.\u001b[0m\u001b[0mgetvalue\u001b[0m\u001b[0;34m(\u001b[0m\u001b[0;34m)\u001b[0m\u001b[0;34m\u001b[0m\u001b[0;34m\u001b[0m\u001b[0m\n",
      "\u001b[0;32m~/dst1_env/lib/python3.10/site-packages/IPython/lib/pretty.py\u001b[0m in \u001b[0;36mpretty\u001b[0;34m(self, obj)\u001b[0m\n\u001b[1;32m    392\u001b[0m                         \u001b[0;32mif\u001b[0m \u001b[0mcls\u001b[0m \u001b[0;32mis\u001b[0m \u001b[0;32mnot\u001b[0m \u001b[0mobject\u001b[0m\u001b[0;31m \u001b[0m\u001b[0;31m\\\u001b[0m\u001b[0;34m\u001b[0m\u001b[0;34m\u001b[0m\u001b[0m\n\u001b[1;32m    393\u001b[0m                                 \u001b[0;32mand\u001b[0m \u001b[0mcallable\u001b[0m\u001b[0;34m(\u001b[0m\u001b[0mcls\u001b[0m\u001b[0;34m.\u001b[0m\u001b[0m__dict__\u001b[0m\u001b[0;34m.\u001b[0m\u001b[0mget\u001b[0m\u001b[0;34m(\u001b[0m\u001b[0;34m'__repr__'\u001b[0m\u001b[0;34m)\u001b[0m\u001b[0;34m)\u001b[0m\u001b[0;34m:\u001b[0m\u001b[0;34m\u001b[0m\u001b[0;34m\u001b[0m\u001b[0m\n\u001b[0;32m--> 394\u001b[0;31m                             \u001b[0;32mreturn\u001b[0m \u001b[0m_repr_pprint\u001b[0m\u001b[0;34m(\u001b[0m\u001b[0mobj\u001b[0m\u001b[0;34m,\u001b[0m \u001b[0mself\u001b[0m\u001b[0;34m,\u001b[0m \u001b[0mcycle\u001b[0m\u001b[0;34m)\u001b[0m\u001b[0;34m\u001b[0m\u001b[0;34m\u001b[0m\u001b[0m\n\u001b[0m\u001b[1;32m    395\u001b[0m \u001b[0;34m\u001b[0m\u001b[0m\n\u001b[1;32m    396\u001b[0m             \u001b[0;32mreturn\u001b[0m \u001b[0m_default_pprint\u001b[0m\u001b[0;34m(\u001b[0m\u001b[0mobj\u001b[0m\u001b[0;34m,\u001b[0m \u001b[0mself\u001b[0m\u001b[0;34m,\u001b[0m \u001b[0mcycle\u001b[0m\u001b[0;34m)\u001b[0m\u001b[0;34m\u001b[0m\u001b[0;34m\u001b[0m\u001b[0m\n",
      "\u001b[0;32m~/dst1_env/lib/python3.10/site-packages/IPython/lib/pretty.py\u001b[0m in \u001b[0;36m_repr_pprint\u001b[0;34m(obj, p, cycle)\u001b[0m\n\u001b[1;32m    698\u001b[0m     \u001b[0;34m\"\"\"A pprint that just redirects to the normal repr function.\"\"\"\u001b[0m\u001b[0;34m\u001b[0m\u001b[0;34m\u001b[0m\u001b[0m\n\u001b[1;32m    699\u001b[0m     \u001b[0;31m# Find newlines and replace them with p.break_()\u001b[0m\u001b[0;34m\u001b[0m\u001b[0;34m\u001b[0m\u001b[0m\n\u001b[0;32m--> 700\u001b[0;31m     \u001b[0moutput\u001b[0m \u001b[0;34m=\u001b[0m \u001b[0mrepr\u001b[0m\u001b[0;34m(\u001b[0m\u001b[0mobj\u001b[0m\u001b[0;34m)\u001b[0m\u001b[0;34m\u001b[0m\u001b[0;34m\u001b[0m\u001b[0m\n\u001b[0m\u001b[1;32m    701\u001b[0m     \u001b[0mlines\u001b[0m \u001b[0;34m=\u001b[0m \u001b[0moutput\u001b[0m\u001b[0;34m.\u001b[0m\u001b[0msplitlines\u001b[0m\u001b[0;34m(\u001b[0m\u001b[0;34m)\u001b[0m\u001b[0;34m\u001b[0m\u001b[0;34m\u001b[0m\u001b[0m\n\u001b[1;32m    702\u001b[0m     \u001b[0;32mwith\u001b[0m \u001b[0mp\u001b[0m\u001b[0;34m.\u001b[0m\u001b[0mgroup\u001b[0m\u001b[0;34m(\u001b[0m\u001b[0;34m)\u001b[0m\u001b[0;34m:\u001b[0m\u001b[0;34m\u001b[0m\u001b[0;34m\u001b[0m\u001b[0m\n",
      "\u001b[0;32m/usr/local/lib/python3.10/dist-packages/plotnine/ggplot.py\u001b[0m in \u001b[0;36m__repr__\u001b[0;34m(self)\u001b[0m\n\u001b[1;32m    112\u001b[0m         \u001b[0mPrint\u001b[0m\u001b[0;34m/\u001b[0m\u001b[0mshow\u001b[0m \u001b[0mthe\u001b[0m \u001b[0mplot\u001b[0m\u001b[0;34m\u001b[0m\u001b[0;34m\u001b[0m\u001b[0m\n\u001b[1;32m    113\u001b[0m         \"\"\"\n\u001b[0;32m--> 114\u001b[0;31m         \u001b[0mfigure\u001b[0m \u001b[0;34m=\u001b[0m \u001b[0mself\u001b[0m\u001b[0;34m.\u001b[0m\u001b[0mdraw\u001b[0m\u001b[0;34m(\u001b[0m\u001b[0mshow\u001b[0m\u001b[0;34m=\u001b[0m\u001b[0;32mTrue\u001b[0m\u001b[0;34m)\u001b[0m\u001b[0;34m\u001b[0m\u001b[0;34m\u001b[0m\u001b[0m\n\u001b[0m\u001b[1;32m    115\u001b[0m \u001b[0;34m\u001b[0m\u001b[0m\n\u001b[1;32m    116\u001b[0m         \u001b[0mdpi\u001b[0m \u001b[0;34m=\u001b[0m \u001b[0mfigure\u001b[0m\u001b[0;34m.\u001b[0m\u001b[0mget_dpi\u001b[0m\u001b[0;34m(\u001b[0m\u001b[0;34m)\u001b[0m\u001b[0;34m\u001b[0m\u001b[0;34m\u001b[0m\u001b[0m\n",
      "\u001b[0;32m/usr/local/lib/python3.10/dist-packages/plotnine/ggplot.py\u001b[0m in \u001b[0;36mdraw\u001b[0;34m(self, show)\u001b[0m\n\u001b[1;32m    209\u001b[0m             \u001b[0mMatplotlib\u001b[0m \u001b[0mfigure\u001b[0m\u001b[0;34m\u001b[0m\u001b[0;34m\u001b[0m\u001b[0m\n\u001b[1;32m    210\u001b[0m         \"\"\"\n\u001b[0;32m--> 211\u001b[0;31m         \u001b[0;32mfrom\u001b[0m \u001b[0;34m.\u001b[0m\u001b[0m_mpl\u001b[0m\u001b[0;34m.\u001b[0m\u001b[0mlayout_engine\u001b[0m \u001b[0;32mimport\u001b[0m \u001b[0mPlotnineLayoutEngine\u001b[0m\u001b[0;34m\u001b[0m\u001b[0;34m\u001b[0m\u001b[0m\n\u001b[0m\u001b[1;32m    212\u001b[0m \u001b[0;34m\u001b[0m\u001b[0m\n\u001b[1;32m    213\u001b[0m         \u001b[0;31m# Do not draw if drawn already.\u001b[0m\u001b[0;34m\u001b[0m\u001b[0;34m\u001b[0m\u001b[0m\n",
      "\u001b[0;32m/usr/local/lib/python3.10/dist-packages/plotnine/_mpl/layout_engine.py\u001b[0m in \u001b[0;36m<module>\u001b[0;34m\u001b[0m\n\u001b[1;32m      4\u001b[0m \u001b[0;32mfrom\u001b[0m \u001b[0mdataclasses\u001b[0m \u001b[0;32mimport\u001b[0m \u001b[0masdict\u001b[0m\u001b[0;34m,\u001b[0m \u001b[0mdataclass\u001b[0m\u001b[0;34m\u001b[0m\u001b[0;34m\u001b[0m\u001b[0m\n\u001b[1;32m      5\u001b[0m \u001b[0;34m\u001b[0m\u001b[0m\n\u001b[0;32m----> 6\u001b[0;31m \u001b[0;32mfrom\u001b[0m \u001b[0mmatplotlib\u001b[0m\u001b[0;34m.\u001b[0m\u001b[0mlayout_engine\u001b[0m \u001b[0;32mimport\u001b[0m \u001b[0mLayoutEngine\u001b[0m\u001b[0;34m\u001b[0m\u001b[0;34m\u001b[0m\u001b[0m\n\u001b[0m\u001b[1;32m      7\u001b[0m \u001b[0;34m\u001b[0m\u001b[0m\n\u001b[1;32m      8\u001b[0m \u001b[0;32mif\u001b[0m \u001b[0mtyping\u001b[0m\u001b[0;34m.\u001b[0m\u001b[0mTYPE_CHECKING\u001b[0m\u001b[0;34m:\u001b[0m\u001b[0;34m\u001b[0m\u001b[0;34m\u001b[0m\u001b[0m\n",
      "\u001b[0;31mModuleNotFoundError\u001b[0m: No module named 'matplotlib.layout_engine'"
     ]
    }
   ],
   "source": [
    "p = (\n",
    "ggplot(data, aes(x=\"Race\", color=\"Race\"))+\n",
    "    geom_histogram(fill=\"white\", position=\"dodge\") +\n",
    "    theme(\n",
    "        legend_direction='horizontal',\n",
    "        legend_position='bottom',\n",
    "        legend_box_spacing=0.25,\n",
    "  ) +\n",
    " guides(fill=guide_legend(nrow=5, byrow=True))\n",
    ")\n",
    "p"
   ]
  },
  {
   "cell_type": "code",
   "execution_count": 268,
   "id": "b90cd83e",
   "metadata": {},
   "outputs": [
    {
     "data": {
      "text/plain": [
       "White                                                                              78\n",
       "Asian or Asian American                                                            37\n",
       "Another option not listed here or prefer not to answer                             15\n",
       "Hispanic, Latino, or Spanish origin                                                 9\n",
       "Hispanic, Latino, or Spanish origin, White                                          7\n",
       "Black or African American                                                           3\n",
       "Middle Eastern or Northern African, White                                           2\n",
       "Middle Eastern or Northern African                                                  2\n",
       "White, Another option not listed here or prefer not to answer                       1\n",
       "Black or African American, Hispanic, Latino, or Spanish origin                      1\n",
       "Hispanic, Latino, or Spanish origin, Native American or Alaska Native               1\n",
       "Asian or Asian American, Another option not listed here or prefer not to answer     1\n",
       "Native American or Alaska Native, White                                             1\n",
       "Native American or Alaska Native                                                    1\n",
       "Name: Race, dtype: int64"
      ]
     },
     "execution_count": 268,
     "metadata": {},
     "output_type": "execute_result"
    }
   ],
   "source": [
    "data.Race.value_counts()"
   ]
  },
  {
   "cell_type": "markdown",
   "id": "66150d40",
   "metadata": {},
   "source": [
    "As we can see in both the plot and the previous method, most of the participants are Caucasian, followed by Asian. This may also present an issue with the creation of a model, as there is a strong bias for the data to take heavily into consideration both Caucasian and Asian races. "
   ]
  },
  {
   "cell_type": "code",
   "execution_count": 269,
   "id": "8210cf4f",
   "metadata": {},
   "outputs": [
    {
     "data": {
      "text/plain": [
       "USA                    13\n",
       "DENMARK                12\n",
       "NORWAY                 12\n",
       "INDIA                  11\n",
       "SINGAPORE              11\n",
       "AUSTRALIA               9\n",
       "MALAYSIA                8\n",
       "BRAZIL                  8\n",
       "POLAND                  8\n",
       "CZECH REPUBLIC          6\n",
       "ARGENTINA               6\n",
       "PHILIPPINES             6\n",
       "ISRAEL                  6\n",
       "CHINA                   4\n",
       "NEW ZEALAND             4\n",
       "MEXICO                  4\n",
       "SOUTH KOREA             4\n",
       "CANADA                  4\n",
       "THAILAND                3\n",
       "INDONESIA               2\n",
       "COLOMBIA                2\n",
       "TAIWAN                  2\n",
       "SRI LANKA               1\n",
       "SAUDI ARABIA            1\n",
       "IRELAND                 1\n",
       "CROATIA                 1\n",
       "SOUTH AFRICA            1\n",
       "TURKEY                  1\n",
       "UK                      1\n",
       "SCOTLAND                1\n",
       "TRINIDAD AND TOBAGO     1\n",
       "HUNGARY                 1\n",
       "SWEDEN                  1\n",
       "KUWAIT                  1\n",
       "SWITZERLAND             1\n",
       "NIGERIA                 1\n",
       "Name: Country, dtype: int64"
      ]
     },
     "execution_count": 269,
     "metadata": {},
     "output_type": "execute_result"
    }
   ],
   "source": [
    "data.Country.value_counts()"
   ]
  },
  {
   "cell_type": "markdown",
   "id": "1e1c45a3",
   "metadata": {},
   "source": [
    "Unfortunately, in the Country column we can observe that most of the responses are from the USA. However, the responses are slightly more distributed in the first 10 countries in the list. "
   ]
  },
  {
   "cell_type": "code",
   "execution_count": 29,
   "id": "8022464a",
   "metadata": {},
   "outputs": [
    {
     "ename": "ModuleNotFoundError",
     "evalue": "No module named 'matplotlib.layout_engine'",
     "output_type": "error",
     "traceback": [
      "\u001b[0;31m---------------------------------------------------------------------------\u001b[0m",
      "\u001b[0;31mModuleNotFoundError\u001b[0m                       Traceback (most recent call last)",
      "\u001b[0;32m~/dst1_env/lib/python3.10/site-packages/IPython/core/formatters.py\u001b[0m in \u001b[0;36m__call__\u001b[0;34m(self, obj)\u001b[0m\n\u001b[1;32m    700\u001b[0m                 \u001b[0mtype_pprinters\u001b[0m\u001b[0;34m=\u001b[0m\u001b[0mself\u001b[0m\u001b[0;34m.\u001b[0m\u001b[0mtype_printers\u001b[0m\u001b[0;34m,\u001b[0m\u001b[0;34m\u001b[0m\u001b[0;34m\u001b[0m\u001b[0m\n\u001b[1;32m    701\u001b[0m                 deferred_pprinters=self.deferred_printers)\n\u001b[0;32m--> 702\u001b[0;31m             \u001b[0mprinter\u001b[0m\u001b[0;34m.\u001b[0m\u001b[0mpretty\u001b[0m\u001b[0;34m(\u001b[0m\u001b[0mobj\u001b[0m\u001b[0;34m)\u001b[0m\u001b[0;34m\u001b[0m\u001b[0;34m\u001b[0m\u001b[0m\n\u001b[0m\u001b[1;32m    703\u001b[0m             \u001b[0mprinter\u001b[0m\u001b[0;34m.\u001b[0m\u001b[0mflush\u001b[0m\u001b[0;34m(\u001b[0m\u001b[0;34m)\u001b[0m\u001b[0;34m\u001b[0m\u001b[0;34m\u001b[0m\u001b[0m\n\u001b[1;32m    704\u001b[0m             \u001b[0;32mreturn\u001b[0m \u001b[0mstream\u001b[0m\u001b[0;34m.\u001b[0m\u001b[0mgetvalue\u001b[0m\u001b[0;34m(\u001b[0m\u001b[0;34m)\u001b[0m\u001b[0;34m\u001b[0m\u001b[0;34m\u001b[0m\u001b[0m\n",
      "\u001b[0;32m~/dst1_env/lib/python3.10/site-packages/IPython/lib/pretty.py\u001b[0m in \u001b[0;36mpretty\u001b[0;34m(self, obj)\u001b[0m\n\u001b[1;32m    392\u001b[0m                         \u001b[0;32mif\u001b[0m \u001b[0mcls\u001b[0m \u001b[0;32mis\u001b[0m \u001b[0;32mnot\u001b[0m \u001b[0mobject\u001b[0m\u001b[0;31m \u001b[0m\u001b[0;31m\\\u001b[0m\u001b[0;34m\u001b[0m\u001b[0;34m\u001b[0m\u001b[0m\n\u001b[1;32m    393\u001b[0m                                 \u001b[0;32mand\u001b[0m \u001b[0mcallable\u001b[0m\u001b[0;34m(\u001b[0m\u001b[0mcls\u001b[0m\u001b[0;34m.\u001b[0m\u001b[0m__dict__\u001b[0m\u001b[0;34m.\u001b[0m\u001b[0mget\u001b[0m\u001b[0;34m(\u001b[0m\u001b[0;34m'__repr__'\u001b[0m\u001b[0;34m)\u001b[0m\u001b[0;34m)\u001b[0m\u001b[0;34m:\u001b[0m\u001b[0;34m\u001b[0m\u001b[0;34m\u001b[0m\u001b[0m\n\u001b[0;32m--> 394\u001b[0;31m                             \u001b[0;32mreturn\u001b[0m \u001b[0m_repr_pprint\u001b[0m\u001b[0;34m(\u001b[0m\u001b[0mobj\u001b[0m\u001b[0;34m,\u001b[0m \u001b[0mself\u001b[0m\u001b[0;34m,\u001b[0m \u001b[0mcycle\u001b[0m\u001b[0;34m)\u001b[0m\u001b[0;34m\u001b[0m\u001b[0;34m\u001b[0m\u001b[0m\n\u001b[0m\u001b[1;32m    395\u001b[0m \u001b[0;34m\u001b[0m\u001b[0m\n\u001b[1;32m    396\u001b[0m             \u001b[0;32mreturn\u001b[0m \u001b[0m_default_pprint\u001b[0m\u001b[0;34m(\u001b[0m\u001b[0mobj\u001b[0m\u001b[0;34m,\u001b[0m \u001b[0mself\u001b[0m\u001b[0;34m,\u001b[0m \u001b[0mcycle\u001b[0m\u001b[0;34m)\u001b[0m\u001b[0;34m\u001b[0m\u001b[0;34m\u001b[0m\u001b[0m\n",
      "\u001b[0;32m~/dst1_env/lib/python3.10/site-packages/IPython/lib/pretty.py\u001b[0m in \u001b[0;36m_repr_pprint\u001b[0;34m(obj, p, cycle)\u001b[0m\n\u001b[1;32m    698\u001b[0m     \u001b[0;34m\"\"\"A pprint that just redirects to the normal repr function.\"\"\"\u001b[0m\u001b[0;34m\u001b[0m\u001b[0;34m\u001b[0m\u001b[0m\n\u001b[1;32m    699\u001b[0m     \u001b[0;31m# Find newlines and replace them with p.break_()\u001b[0m\u001b[0;34m\u001b[0m\u001b[0;34m\u001b[0m\u001b[0m\n\u001b[0;32m--> 700\u001b[0;31m     \u001b[0moutput\u001b[0m \u001b[0;34m=\u001b[0m \u001b[0mrepr\u001b[0m\u001b[0;34m(\u001b[0m\u001b[0mobj\u001b[0m\u001b[0;34m)\u001b[0m\u001b[0;34m\u001b[0m\u001b[0;34m\u001b[0m\u001b[0m\n\u001b[0m\u001b[1;32m    701\u001b[0m     \u001b[0mlines\u001b[0m \u001b[0;34m=\u001b[0m \u001b[0moutput\u001b[0m\u001b[0;34m.\u001b[0m\u001b[0msplitlines\u001b[0m\u001b[0;34m(\u001b[0m\u001b[0;34m)\u001b[0m\u001b[0;34m\u001b[0m\u001b[0;34m\u001b[0m\u001b[0m\n\u001b[1;32m    702\u001b[0m     \u001b[0;32mwith\u001b[0m \u001b[0mp\u001b[0m\u001b[0;34m.\u001b[0m\u001b[0mgroup\u001b[0m\u001b[0;34m(\u001b[0m\u001b[0;34m)\u001b[0m\u001b[0;34m:\u001b[0m\u001b[0;34m\u001b[0m\u001b[0;34m\u001b[0m\u001b[0m\n",
      "\u001b[0;32m/usr/local/lib/python3.10/dist-packages/plotnine/ggplot.py\u001b[0m in \u001b[0;36m__repr__\u001b[0;34m(self)\u001b[0m\n\u001b[1;32m    112\u001b[0m         \u001b[0mPrint\u001b[0m\u001b[0;34m/\u001b[0m\u001b[0mshow\u001b[0m \u001b[0mthe\u001b[0m \u001b[0mplot\u001b[0m\u001b[0;34m\u001b[0m\u001b[0;34m\u001b[0m\u001b[0m\n\u001b[1;32m    113\u001b[0m         \"\"\"\n\u001b[0;32m--> 114\u001b[0;31m         \u001b[0mfigure\u001b[0m \u001b[0;34m=\u001b[0m \u001b[0mself\u001b[0m\u001b[0;34m.\u001b[0m\u001b[0mdraw\u001b[0m\u001b[0;34m(\u001b[0m\u001b[0mshow\u001b[0m\u001b[0;34m=\u001b[0m\u001b[0;32mTrue\u001b[0m\u001b[0;34m)\u001b[0m\u001b[0;34m\u001b[0m\u001b[0;34m\u001b[0m\u001b[0m\n\u001b[0m\u001b[1;32m    115\u001b[0m \u001b[0;34m\u001b[0m\u001b[0m\n\u001b[1;32m    116\u001b[0m         \u001b[0mdpi\u001b[0m \u001b[0;34m=\u001b[0m \u001b[0mfigure\u001b[0m\u001b[0;34m.\u001b[0m\u001b[0mget_dpi\u001b[0m\u001b[0;34m(\u001b[0m\u001b[0;34m)\u001b[0m\u001b[0;34m\u001b[0m\u001b[0;34m\u001b[0m\u001b[0m\n",
      "\u001b[0;32m/usr/local/lib/python3.10/dist-packages/plotnine/ggplot.py\u001b[0m in \u001b[0;36mdraw\u001b[0;34m(self, show)\u001b[0m\n\u001b[1;32m    209\u001b[0m             \u001b[0mMatplotlib\u001b[0m \u001b[0mfigure\u001b[0m\u001b[0;34m\u001b[0m\u001b[0;34m\u001b[0m\u001b[0m\n\u001b[1;32m    210\u001b[0m         \"\"\"\n\u001b[0;32m--> 211\u001b[0;31m         \u001b[0;32mfrom\u001b[0m \u001b[0;34m.\u001b[0m\u001b[0m_mpl\u001b[0m\u001b[0;34m.\u001b[0m\u001b[0mlayout_engine\u001b[0m \u001b[0;32mimport\u001b[0m \u001b[0mPlotnineLayoutEngine\u001b[0m\u001b[0;34m\u001b[0m\u001b[0;34m\u001b[0m\u001b[0m\n\u001b[0m\u001b[1;32m    212\u001b[0m \u001b[0;34m\u001b[0m\u001b[0m\n\u001b[1;32m    213\u001b[0m         \u001b[0;31m# Do not draw if drawn already.\u001b[0m\u001b[0;34m\u001b[0m\u001b[0;34m\u001b[0m\u001b[0m\n",
      "\u001b[0;32m/usr/local/lib/python3.10/dist-packages/plotnine/_mpl/layout_engine.py\u001b[0m in \u001b[0;36m<module>\u001b[0;34m\u001b[0m\n\u001b[1;32m      4\u001b[0m \u001b[0;32mfrom\u001b[0m \u001b[0mdataclasses\u001b[0m \u001b[0;32mimport\u001b[0m \u001b[0masdict\u001b[0m\u001b[0;34m,\u001b[0m \u001b[0mdataclass\u001b[0m\u001b[0;34m\u001b[0m\u001b[0;34m\u001b[0m\u001b[0m\n\u001b[1;32m      5\u001b[0m \u001b[0;34m\u001b[0m\u001b[0m\n\u001b[0;32m----> 6\u001b[0;31m \u001b[0;32mfrom\u001b[0m \u001b[0mmatplotlib\u001b[0m\u001b[0;34m.\u001b[0m\u001b[0mlayout_engine\u001b[0m \u001b[0;32mimport\u001b[0m \u001b[0mLayoutEngine\u001b[0m\u001b[0;34m\u001b[0m\u001b[0;34m\u001b[0m\u001b[0m\n\u001b[0m\u001b[1;32m      7\u001b[0m \u001b[0;34m\u001b[0m\u001b[0m\n\u001b[1;32m      8\u001b[0m \u001b[0;32mif\u001b[0m \u001b[0mtyping\u001b[0m\u001b[0;34m.\u001b[0m\u001b[0mTYPE_CHECKING\u001b[0m\u001b[0;34m:\u001b[0m\u001b[0;34m\u001b[0m\u001b[0;34m\u001b[0m\u001b[0m\n",
      "\u001b[0;31mModuleNotFoundError\u001b[0m: No module named 'matplotlib.layout_engine'"
     ]
    }
   ],
   "source": [
    "p = (\n",
    "ggplot(data, aes(x=\"Total\", color=\"Country\"))+\n",
    "    geom_histogram(fill=\"white\", position=\"dodge\") +\n",
    "    theme(\n",
    "        legend_direction='horizontal',\n",
    "        legend_position='bottom'\n",
    "  ) \n",
    ")\n",
    "p"
   ]
  },
  {
   "cell_type": "code",
   "execution_count": 270,
   "id": "895f7820",
   "metadata": {},
   "outputs": [
    {
     "data": {
      "text/plain": [
       "10761.60     1\n",
       "74000.00     1\n",
       "2862.60      1\n",
       "12280.28     1\n",
       "135000.00    1\n",
       "            ..\n",
       "91000.00     1\n",
       "65646.90     1\n",
       "101439.00    1\n",
       "70675.20     1\n",
       "30385.20     1\n",
       "Name: Total, Length: 159, dtype: int64"
      ]
     },
     "execution_count": 270,
     "metadata": {},
     "output_type": "execute_result"
    }
   ],
   "source": [
    "data.Total.value_counts()"
   ]
  },
  {
   "cell_type": "markdown",
   "id": "3506a21d",
   "metadata": {},
   "source": [
    "# Modelling"
   ]
  },
  {
   "cell_type": "markdown",
   "id": "6ed77efc",
   "metadata": {},
   "source": [
    "Now that the data has been cleaned, the next step is to use this clean data to create predictive models in order to be able to associate different variables, such as country of origin, race, gender, age, etc. \n",
    "In order to be able to use most algorithms, the data needs to be either numerical, or one-hot encoded.\n",
    "Several models will be tried: \n",
    "* Nearest Neighbors Classification\n",
    "* Random forest"
   ]
  },
  {
   "cell_type": "code",
   "execution_count": 272,
   "id": "650c2e04",
   "metadata": {},
   "outputs": [
    {
     "data": {
      "text/plain": [
       "Age                         0\n",
       "Industry                    1\n",
       "Job Title                   0\n",
       "Country                     0\n",
       "Work experience             0\n",
       "Work experience in field    0\n",
       "Education                   0\n",
       "Gender                      0\n",
       "Race                        0\n",
       "Total                       0\n",
       "dtype: int64"
      ]
     },
     "execution_count": 272,
     "metadata": {},
     "output_type": "execute_result"
    }
   ],
   "source": [
    "data.isna().sum()"
   ]
  },
  {
   "cell_type": "markdown",
   "id": "8f9e9852",
   "metadata": {},
   "source": [
    "## DecisionTree Regressor"
   ]
  },
  {
   "cell_type": "code",
   "execution_count": 420,
   "id": "5c4113fa",
   "metadata": {},
   "outputs": [],
   "source": [
    "from sklearn import datasets, linear_model\n",
    "from sklearn.metrics import mean_squared_error, r2_score\n",
    "from sklearn.model_selection import train_test_split"
   ]
  },
  {
   "cell_type": "code",
   "execution_count": 421,
   "id": "06bef56d",
   "metadata": {},
   "outputs": [],
   "source": [
    "X = data.drop([\"Total\",\"Job Title\"], axis=1)\n",
    "cat_features = X.columns.to_numpy()\n",
    "\n",
    "X = pd.get_dummies(data=X, columns=cat_features, drop_first=True)\n",
    "y = data[\"Total\"].copy()\n",
    "\n",
    "X_train,X_test, y_train,y_test = train_test_split(X,y,test_size=0.2,random_state=42)"
   ]
  },
  {
   "cell_type": "code",
   "execution_count": 277,
   "id": "815618b8",
   "metadata": {
    "scrolled": true
   },
   "outputs": [
    {
     "data": {
      "text/plain": [
       "13295      5466.00\n",
       "26424     29160.00\n",
       "1311      22206.24\n",
       "17575     53433.60\n",
       "10374     25591.82\n",
       "           ...    \n",
       "12446     81180.00\n",
       "20097     10336.00\n",
       "3937     122700.00\n",
       "18498     29742.98\n",
       "19250      2862.60\n",
       "Name: Total, Length: 127, dtype: float64"
      ]
     },
     "execution_count": 277,
     "metadata": {},
     "output_type": "execute_result"
    }
   ],
   "source": [
    "y_train"
   ]
  },
  {
   "cell_type": "code",
   "execution_count": 431,
   "id": "77eaebd4",
   "metadata": {},
   "outputs": [
    {
     "name": "stdout",
     "output_type": "stream",
     "text": [
      "Mean squared error: 1084709436.47\n",
      "Coefficient of determination: 0.19\n"
     ]
    }
   ],
   "source": [
    "from sklearn.tree import DecisionTreeRegressor, DecisionTreeClassifier\n",
    "tree_reg1 = DecisionTreeRegressor(max_depth=2, random_state=42)\n",
    "tree_reg1.fit(X_train,y_train)\n",
    "\n",
    "tree_y_pred = tree_reg1.predict(X_test)\n",
    "\n",
    "# The mean squared error\n",
    "print(\"Mean squared error: %.2f\" % mean_squared_error(y_test, tree_y_pred))\n",
    "# The coefficient of determination: 1 is perfect prediction\n",
    "print(\"Coefficient of determination: %.2f\" % r2_score(y_test, tree_y_pred))"
   ]
  },
  {
   "cell_type": "markdown",
   "id": "68b6b764",
   "metadata": {},
   "source": [
    "## KNN"
   ]
  },
  {
   "cell_type": "code",
   "execution_count": 283,
   "id": "d803db28",
   "metadata": {
    "scrolled": true
   },
   "outputs": [
    {
     "data": {
      "text/html": [
       "<div>\n",
       "<style scoped>\n",
       "    .dataframe tbody tr th:only-of-type {\n",
       "        vertical-align: middle;\n",
       "    }\n",
       "\n",
       "    .dataframe tbody tr th {\n",
       "        vertical-align: top;\n",
       "    }\n",
       "\n",
       "    .dataframe thead th {\n",
       "        text-align: right;\n",
       "    }\n",
       "</style>\n",
       "<table border=\"1\" class=\"dataframe\">\n",
       "  <thead>\n",
       "    <tr style=\"text-align: right;\">\n",
       "      <th></th>\n",
       "      <th>['Total']_(11000.0, 44725.0]</th>\n",
       "      <th>['Total']_(44725.0, 95375.0]</th>\n",
       "      <th>['Total']_(95375.0, 182100.0]</th>\n",
       "      <th>['Total']_(182100.0, 231250.0]</th>\n",
       "      <th>['Total']_(231250.0, 578125.0]</th>\n",
       "      <th>['Total']_(578125.0, inf]</th>\n",
       "    </tr>\n",
       "  </thead>\n",
       "  <tbody>\n",
       "    <tr>\n",
       "      <th>434</th>\n",
       "      <td>0</td>\n",
       "      <td>0</td>\n",
       "      <td>0</td>\n",
       "      <td>0</td>\n",
       "      <td>0</td>\n",
       "      <td>0</td>\n",
       "    </tr>\n",
       "    <tr>\n",
       "      <th>603</th>\n",
       "      <td>0</td>\n",
       "      <td>0</td>\n",
       "      <td>0</td>\n",
       "      <td>0</td>\n",
       "      <td>0</td>\n",
       "      <td>0</td>\n",
       "    </tr>\n",
       "    <tr>\n",
       "      <th>1311</th>\n",
       "      <td>1</td>\n",
       "      <td>0</td>\n",
       "      <td>0</td>\n",
       "      <td>0</td>\n",
       "      <td>0</td>\n",
       "      <td>0</td>\n",
       "    </tr>\n",
       "    <tr>\n",
       "      <th>1840</th>\n",
       "      <td>0</td>\n",
       "      <td>1</td>\n",
       "      <td>0</td>\n",
       "      <td>0</td>\n",
       "      <td>0</td>\n",
       "      <td>0</td>\n",
       "    </tr>\n",
       "    <tr>\n",
       "      <th>1915</th>\n",
       "      <td>1</td>\n",
       "      <td>0</td>\n",
       "      <td>0</td>\n",
       "      <td>0</td>\n",
       "      <td>0</td>\n",
       "      <td>0</td>\n",
       "    </tr>\n",
       "  </tbody>\n",
       "</table>\n",
       "</div>"
      ],
      "text/plain": [
       "      ['Total']_(11000.0, 44725.0]  ['Total']_(44725.0, 95375.0]  \\\n",
       "434                              0                             0   \n",
       "603                              0                             0   \n",
       "1311                             1                             0   \n",
       "1840                             0                             1   \n",
       "1915                             1                             0   \n",
       "\n",
       "      ['Total']_(95375.0, 182100.0]  ['Total']_(182100.0, 231250.0]  \\\n",
       "434                               0                               0   \n",
       "603                               0                               0   \n",
       "1311                              0                               0   \n",
       "1840                              0                               0   \n",
       "1915                              0                               0   \n",
       "\n",
       "      ['Total']_(231250.0, 578125.0]  ['Total']_(578125.0, inf]  \n",
       "434                                0                          0  \n",
       "603                                0                          0  \n",
       "1311                               0                          0  \n",
       "1840                               0                          0  \n",
       "1915                               0                          0  "
      ]
     },
     "execution_count": 283,
     "metadata": {},
     "output_type": "execute_result"
    }
   ],
   "source": [
    "# As the data is categorical, it needs to be set to one-hot encoded\n",
    "data_prep = data.copy()\n",
    "data_prep = data_prep.drop(\"Total\", axis=1)\n",
    "x_encoded = pd.get_dummies(data_prep, prefix=[\"Age\", \"Industry\", \"Job Title\",\n",
    "                                \"Country\", \"Work experience\", \"Work experience in field\", \"Education\", \"Gender\", \"Race\"], drop_first=True)\n",
    "x_encoded.head()\n",
    "y = data.copy()\n",
    "y[\"Total\"] = pd.cut(y[\"Total\"], [0,11000, 44725, 95375, 182100, 231250, 578125 ,float(\"inf\")])\n",
    "y = y[\"Total\"]\n",
    "y_encoded = pd.get_dummies(y, prefix=[\"Total\"], drop_first=True)\n",
    "y_encoded.head()"
   ]
  },
  {
   "cell_type": "code",
   "execution_count": 284,
   "id": "4e6a245f",
   "metadata": {},
   "outputs": [
    {
     "data": {
      "text/plain": [
       "KNeighborsClassifier(n_neighbors=3)"
      ]
     },
     "execution_count": 284,
     "metadata": {},
     "output_type": "execute_result"
    }
   ],
   "source": [
    "# Nearest Neighbors Classification\n",
    "knn = KNeighborsClassifier(n_neighbors=3)\n",
    "knn.fit(x_encoded, y_encoded)"
   ]
  },
  {
   "cell_type": "code",
   "execution_count": 285,
   "id": "e48b9ea6",
   "metadata": {},
   "outputs": [
    {
     "name": "stdout",
     "output_type": "stream",
     "text": [
      "Age                                                       45-54\n",
      "Industry                                            Health care\n",
      "Job Title                                             EXECUTIVE\n",
      "Country                                               ARGENTINA\n",
      "Work experience                                   11 - 20 years\n",
      "Work experience in field                          11 - 20 years\n",
      "Education                                        College degree\n",
      "Gender                                                    Woman\n",
      "Race                        Hispanic, Latino, or Spanish origin\n",
      "Name: 603, dtype: object\n",
      "4782.01\n"
     ]
    }
   ],
   "source": [
    "# We perform a prediction with this data\n",
    "print(data_prep.iloc[1])\n",
    "print(data.iloc[1][\"Total\"])"
   ]
  },
  {
   "cell_type": "code",
   "execution_count": 35,
   "id": "707ba521",
   "metadata": {},
   "outputs": [],
   "source": [
    "#! pip uninstall scikit-learn -y\n",
    "#! pip install scikit-learn==1.2.2\n",
    "#! pip show scikit-learn"
   ]
  },
  {
   "cell_type": "code",
   "execution_count": 286,
   "id": "fcb02bb8",
   "metadata": {},
   "outputs": [
    {
     "name": "stderr",
     "output_type": "stream",
     "text": [
      "/home/balika/dst1_env/lib/python3.10/site-packages/sklearn/base.py:450: UserWarning: X does not have valid feature names, but KNeighborsClassifier was fitted with feature names\n"
     ]
    },
    {
     "data": {
      "text/plain": [
       "array([[0, 0, 0, 0, 0, 0]], dtype=uint8)"
      ]
     },
     "execution_count": 286,
     "metadata": {},
     "output_type": "execute_result"
    }
   ],
   "source": [
    "pred = np.array(x_encoded.iloc[1])\n",
    "knn.predict(pred.reshape(1,-1))"
   ]
  },
  {
   "cell_type": "markdown",
   "id": "4cefa23f",
   "metadata": {},
   "source": [
    "As it can be seen in the prediction, this model does not work correctly for wages that fall outside the brackets of taxes for the US. \n",
    "The annual salary for a healthcare manager in Argentina is 4782 USD. This is far below the expected value, which is within 95375 and 182100 USD. \n",
    "The prediction model fails to account for these differences.\n",
    "Now another test can be done with an observation of wages in the US, or with wages similar to the US"
   ]
  },
  {
   "cell_type": "code",
   "execution_count": 287,
   "id": "e4ac3cce",
   "metadata": {},
   "outputs": [
    {
     "name": "stdout",
     "output_type": "stream",
     "text": [
      "Age                                                  35-44\n",
      "Industry                    Intergovernmental organization\n",
      "Job Title                                       CONSULTANT\n",
      "Country                                        SWITZERLAND\n",
      "Work experience                              11 - 20 years\n",
      "Work experience in field                         5-7 years\n",
      "Education                                  Master's degree\n",
      "Gender                                               Woman\n",
      "Race                             Black or African American\n",
      "Name: 1840, dtype: object\n",
      "68982.0\n",
      "['Total']_(11000.0, 44725.0]      0\n",
      "['Total']_(44725.0, 95375.0]      1\n",
      "['Total']_(95375.0, 182100.0]     0\n",
      "['Total']_(182100.0, 231250.0]    0\n",
      "['Total']_(231250.0, 578125.0]    0\n",
      "['Total']_(578125.0, inf]         0\n",
      "Name: 1840, dtype: uint8\n"
     ]
    }
   ],
   "source": [
    "print(data_prep.iloc[3])\n",
    "print(data.iloc[3][\"Total\"])\n",
    "print(y_encoded.iloc[3])"
   ]
  },
  {
   "cell_type": "code",
   "execution_count": 38,
   "id": "b4e9ed02",
   "metadata": {},
   "outputs": [
    {
     "name": "stderr",
     "output_type": "stream",
     "text": [
      "/home/balika/dst1_env/lib/python3.10/site-packages/sklearn/base.py:450: UserWarning: X does not have valid feature names, but KNeighborsClassifier was fitted with feature names\n"
     ]
    },
    {
     "data": {
      "text/plain": [
       "array([[0, 1, 0, 0, 0, 0]], dtype=uint8)"
      ]
     },
     "execution_count": 38,
     "metadata": {},
     "output_type": "execute_result"
    }
   ],
   "source": [
    "pred = np.array(x_encoded.iloc[3])\n",
    "knn.predict(pred.reshape(1,-1))"
   ]
  },
  {
   "cell_type": "markdown",
   "id": "e7cbf447",
   "metadata": {},
   "source": [
    "As it can be seen, the prediction was a success for a person in a country with wages similar to the US\n",
    "Afterwards, a comparison can be made with every observation available in the dataset"
   ]
  },
  {
   "cell_type": "code",
   "execution_count": 288,
   "id": "81cc676b",
   "metadata": {},
   "outputs": [
    {
     "name": "stdout",
     "output_type": "stream",
     "text": [
      "{True: 102, False: 57}\n"
     ]
    }
   ],
   "source": [
    "pred_res = knn.predict(x_encoded)\n",
    "actual_vals = y_encoded.values\n",
    "comparison = pred_res == actual_vals\n",
    "#print(comparison)\n",
    "results = {True: 0, False: 0}\n",
    "for c in comparison:\n",
    "    if False in c:\n",
    "        results[False]+=1\n",
    "    else:\n",
    "        results[True]+=1\n",
    "print(results)\n"
   ]
  },
  {
   "cell_type": "code",
   "execution_count": 289,
   "id": "122e6980",
   "metadata": {},
   "outputs": [
    {
     "name": "stdout",
     "output_type": "stream",
     "text": [
      "0.6415094339622641\n"
     ]
    }
   ],
   "source": [
    "success_rate = results[True] / (results[True] + results[False])\n",
    "print(success_rate)"
   ]
  },
  {
   "cell_type": "markdown",
   "id": "fd08eb24",
   "metadata": {},
   "source": [
    "As we can see, this simple model has a 60% succcess rate"
   ]
  },
  {
   "cell_type": "markdown",
   "id": "1a6bc8d7",
   "metadata": {},
   "source": [
    "## Random Fores"
   ]
  },
  {
   "cell_type": "code",
   "execution_count": 290,
   "id": "6374b56c",
   "metadata": {},
   "outputs": [
    {
     "data": {
      "text/plain": [
       "RandomForestClassifier(max_depth=2, random_state=0)"
      ]
     },
     "execution_count": 290,
     "metadata": {},
     "output_type": "execute_result"
    }
   ],
   "source": [
    "clf = RandomForestClassifier(max_depth=2, random_state=0)\n",
    "clf.fit(x_encoded, y_encoded)"
   ]
  },
  {
   "cell_type": "code",
   "execution_count": 291,
   "id": "50ec4d68",
   "metadata": {},
   "outputs": [
    {
     "name": "stdout",
     "output_type": "stream",
     "text": [
      "Age                                                       45-54\n",
      "Industry                                            Health care\n",
      "Job Title                                             EXECUTIVE\n",
      "Country                                               ARGENTINA\n",
      "Work experience                                   11 - 20 years\n",
      "Work experience in field                          11 - 20 years\n",
      "Education                                        College degree\n",
      "Gender                                                    Woman\n",
      "Race                        Hispanic, Latino, or Spanish origin\n",
      "Name: 603, dtype: object\n",
      "4782.01\n"
     ]
    }
   ],
   "source": [
    "# We perform a prediction with this data\n",
    "print(data_prep.iloc[1])\n",
    "print(data.iloc[1][\"Total\"])"
   ]
  },
  {
   "cell_type": "code",
   "execution_count": 292,
   "id": "f03210cc",
   "metadata": {},
   "outputs": [
    {
     "name": "stderr",
     "output_type": "stream",
     "text": [
      "/home/balika/dst1_env/lib/python3.10/site-packages/sklearn/base.py:450: UserWarning: X does not have valid feature names, but RandomForestClassifier was fitted with feature names\n"
     ]
    },
    {
     "data": {
      "text/plain": [
       "array([[0, 0, 0, 0, 0, 0]], dtype=uint8)"
      ]
     },
     "execution_count": 292,
     "metadata": {},
     "output_type": "execute_result"
    }
   ],
   "source": [
    "pred = np.array(x_encoded.iloc[1])\n",
    "clf.predict(pred.reshape(1,-1))"
   ]
  },
  {
   "cell_type": "code",
   "execution_count": 293,
   "id": "d950549f",
   "metadata": {},
   "outputs": [
    {
     "name": "stdout",
     "output_type": "stream",
     "text": [
      "Age                                                  35-44\n",
      "Industry                    Intergovernmental organization\n",
      "Job Title                                       CONSULTANT\n",
      "Country                                        SWITZERLAND\n",
      "Work experience                              11 - 20 years\n",
      "Work experience in field                         5-7 years\n",
      "Education                                  Master's degree\n",
      "Gender                                               Woman\n",
      "Race                             Black or African American\n",
      "Name: 1840, dtype: object\n",
      "68982.0\n"
     ]
    }
   ],
   "source": [
    "# We perform a prediction with this data\n",
    "print(data_prep.iloc[3])\n",
    "print(data.iloc[3][\"Total\"])"
   ]
  },
  {
   "cell_type": "code",
   "execution_count": 294,
   "id": "903620b3",
   "metadata": {},
   "outputs": [
    {
     "name": "stderr",
     "output_type": "stream",
     "text": [
      "/home/balika/dst1_env/lib/python3.10/site-packages/sklearn/base.py:450: UserWarning: X does not have valid feature names, but RandomForestClassifier was fitted with feature names\n"
     ]
    },
    {
     "data": {
      "text/plain": [
       "array([[0, 0, 0, 0, 0, 0]], dtype=uint8)"
      ]
     },
     "execution_count": 294,
     "metadata": {},
     "output_type": "execute_result"
    }
   ],
   "source": [
    "pred = np.array(x_encoded.iloc[3])\n",
    "clf.predict(pred.reshape(1,-1))"
   ]
  },
  {
   "cell_type": "code",
   "execution_count": 295,
   "id": "3856cfed",
   "metadata": {},
   "outputs": [
    {
     "data": {
      "text/plain": [
       "array([[0, 0, 0, 0, 0, 0],\n",
       "       [0, 0, 0, 0, 0, 0],\n",
       "       [0, 0, 0, 0, 0, 0],\n",
       "       [0, 0, 0, 0, 0, 0],\n",
       "       [0, 0, 0, 0, 0, 0],\n",
       "       [0, 0, 0, 0, 0, 0],\n",
       "       [0, 0, 0, 0, 0, 0],\n",
       "       [0, 0, 0, 0, 0, 0],\n",
       "       [0, 0, 0, 0, 0, 0],\n",
       "       [0, 0, 0, 0, 0, 0],\n",
       "       [0, 0, 0, 0, 0, 0],\n",
       "       [0, 0, 0, 0, 0, 0],\n",
       "       [0, 0, 0, 0, 0, 0],\n",
       "       [0, 0, 0, 0, 0, 0],\n",
       "       [0, 1, 0, 0, 0, 0],\n",
       "       [0, 0, 0, 0, 0, 0],\n",
       "       [0, 0, 0, 0, 0, 0],\n",
       "       [0, 0, 0, 0, 0, 0],\n",
       "       [0, 0, 0, 0, 0, 0],\n",
       "       [0, 0, 0, 0, 0, 0],\n",
       "       [0, 0, 0, 0, 0, 0],\n",
       "       [0, 0, 0, 0, 0, 0],\n",
       "       [0, 0, 0, 0, 0, 0],\n",
       "       [0, 0, 0, 0, 0, 0],\n",
       "       [0, 0, 0, 0, 0, 0],\n",
       "       [0, 0, 0, 0, 0, 0],\n",
       "       [0, 0, 0, 0, 0, 0],\n",
       "       [0, 0, 0, 0, 0, 0],\n",
       "       [0, 0, 0, 0, 0, 0],\n",
       "       [0, 0, 0, 0, 0, 0],\n",
       "       [0, 0, 0, 0, 0, 0],\n",
       "       [0, 0, 0, 0, 0, 0],\n",
       "       [0, 0, 0, 0, 0, 0],\n",
       "       [0, 0, 0, 0, 0, 0],\n",
       "       [0, 0, 0, 0, 0, 0],\n",
       "       [0, 0, 0, 0, 0, 0],\n",
       "       [0, 0, 0, 0, 0, 0],\n",
       "       [0, 0, 0, 0, 0, 0],\n",
       "       [0, 0, 0, 0, 0, 0],\n",
       "       [0, 0, 0, 0, 0, 0],\n",
       "       [0, 0, 0, 0, 0, 0],\n",
       "       [0, 0, 0, 0, 0, 0],\n",
       "       [0, 0, 0, 0, 0, 0],\n",
       "       [0, 0, 0, 0, 0, 0],\n",
       "       [0, 0, 0, 0, 0, 0],\n",
       "       [0, 0, 0, 0, 0, 0],\n",
       "       [0, 0, 0, 0, 0, 0],\n",
       "       [0, 0, 0, 0, 0, 0],\n",
       "       [0, 0, 0, 0, 0, 0],\n",
       "       [0, 0, 0, 0, 0, 0],\n",
       "       [0, 0, 0, 0, 0, 0],\n",
       "       [0, 0, 0, 0, 0, 0],\n",
       "       [0, 0, 0, 0, 0, 0],\n",
       "       [0, 0, 0, 0, 0, 0],\n",
       "       [0, 0, 0, 0, 0, 0],\n",
       "       [0, 0, 0, 0, 0, 0],\n",
       "       [0, 0, 0, 0, 0, 0],\n",
       "       [0, 0, 0, 0, 0, 0],\n",
       "       [0, 0, 0, 0, 0, 0],\n",
       "       [0, 0, 0, 0, 0, 0],\n",
       "       [0, 0, 0, 0, 0, 0],\n",
       "       [0, 0, 0, 0, 0, 0],\n",
       "       [0, 0, 0, 0, 0, 0],\n",
       "       [0, 0, 0, 0, 0, 0],\n",
       "       [0, 0, 0, 0, 0, 0],\n",
       "       [0, 0, 0, 0, 0, 0],\n",
       "       [0, 0, 0, 0, 0, 0],\n",
       "       [0, 0, 0, 0, 0, 0],\n",
       "       [0, 0, 0, 0, 0, 0],\n",
       "       [0, 0, 0, 0, 0, 0],\n",
       "       [0, 0, 0, 0, 0, 0],\n",
       "       [0, 0, 0, 0, 0, 0],\n",
       "       [0, 0, 0, 0, 0, 0],\n",
       "       [0, 0, 0, 0, 0, 0],\n",
       "       [0, 0, 0, 0, 0, 0],\n",
       "       [0, 0, 0, 0, 0, 0],\n",
       "       [0, 0, 0, 0, 0, 0],\n",
       "       [0, 0, 0, 0, 0, 0],\n",
       "       [0, 0, 0, 0, 0, 0],\n",
       "       [0, 0, 0, 0, 0, 0],\n",
       "       [0, 0, 0, 0, 0, 0],\n",
       "       [0, 0, 0, 0, 0, 0],\n",
       "       [0, 0, 0, 0, 0, 0],\n",
       "       [0, 0, 0, 0, 0, 0],\n",
       "       [0, 0, 0, 0, 0, 0],\n",
       "       [0, 0, 0, 0, 0, 0],\n",
       "       [0, 0, 0, 0, 0, 0],\n",
       "       [0, 0, 0, 0, 0, 0],\n",
       "       [0, 0, 0, 0, 0, 0],\n",
       "       [0, 0, 0, 0, 0, 0],\n",
       "       [0, 0, 0, 0, 0, 0],\n",
       "       [0, 0, 0, 0, 0, 0],\n",
       "       [0, 0, 0, 0, 0, 0],\n",
       "       [0, 0, 0, 0, 0, 0],\n",
       "       [0, 0, 0, 0, 0, 0],\n",
       "       [0, 0, 0, 0, 0, 0],\n",
       "       [0, 0, 0, 0, 0, 0],\n",
       "       [0, 0, 0, 0, 0, 0],\n",
       "       [0, 0, 0, 0, 0, 0],\n",
       "       [0, 0, 0, 0, 0, 0],\n",
       "       [0, 0, 0, 0, 0, 0],\n",
       "       [0, 0, 0, 0, 0, 0],\n",
       "       [0, 0, 0, 0, 0, 0],\n",
       "       [0, 0, 0, 0, 0, 0],\n",
       "       [0, 0, 0, 0, 0, 0],\n",
       "       [0, 0, 0, 0, 0, 0],\n",
       "       [0, 0, 0, 0, 0, 0],\n",
       "       [0, 0, 0, 0, 0, 0],\n",
       "       [0, 0, 0, 0, 0, 0],\n",
       "       [0, 0, 0, 0, 0, 0],\n",
       "       [0, 0, 0, 0, 0, 0],\n",
       "       [0, 0, 0, 0, 0, 0],\n",
       "       [0, 0, 0, 0, 0, 0],\n",
       "       [0, 0, 0, 0, 0, 0],\n",
       "       [0, 0, 0, 0, 0, 0],\n",
       "       [0, 0, 0, 0, 0, 0],\n",
       "       [0, 0, 0, 0, 0, 0],\n",
       "       [0, 0, 0, 0, 0, 0],\n",
       "       [0, 0, 0, 0, 0, 0],\n",
       "       [0, 0, 0, 0, 0, 0],\n",
       "       [0, 0, 0, 0, 0, 0],\n",
       "       [0, 0, 0, 0, 0, 0],\n",
       "       [0, 0, 0, 0, 0, 0],\n",
       "       [0, 0, 0, 0, 0, 0],\n",
       "       [0, 0, 0, 0, 0, 0],\n",
       "       [0, 0, 0, 0, 0, 0],\n",
       "       [0, 0, 0, 0, 0, 0],\n",
       "       [0, 0, 0, 0, 0, 0],\n",
       "       [0, 0, 0, 0, 0, 0],\n",
       "       [0, 0, 0, 0, 0, 0],\n",
       "       [0, 0, 0, 0, 0, 0],\n",
       "       [0, 0, 0, 0, 0, 0],\n",
       "       [0, 0, 0, 0, 0, 0],\n",
       "       [0, 0, 0, 0, 0, 0],\n",
       "       [0, 0, 0, 0, 0, 0],\n",
       "       [0, 0, 0, 0, 0, 0],\n",
       "       [0, 0, 0, 0, 0, 0],\n",
       "       [0, 0, 0, 0, 0, 0],\n",
       "       [0, 0, 0, 0, 0, 0],\n",
       "       [0, 0, 0, 0, 0, 0],\n",
       "       [0, 0, 0, 0, 0, 0],\n",
       "       [0, 0, 0, 0, 0, 0],\n",
       "       [0, 0, 0, 0, 0, 0],\n",
       "       [0, 0, 0, 0, 0, 0],\n",
       "       [0, 0, 0, 0, 0, 0],\n",
       "       [0, 0, 0, 0, 0, 0],\n",
       "       [0, 0, 0, 0, 0, 0],\n",
       "       [0, 1, 0, 0, 0, 0],\n",
       "       [0, 0, 0, 0, 0, 0],\n",
       "       [0, 0, 0, 0, 0, 0],\n",
       "       [0, 0, 0, 0, 0, 0],\n",
       "       [0, 0, 0, 0, 0, 0],\n",
       "       [0, 0, 0, 0, 0, 0],\n",
       "       [0, 0, 0, 0, 0, 0],\n",
       "       [0, 0, 0, 0, 0, 0],\n",
       "       [0, 0, 0, 0, 0, 0],\n",
       "       [0, 0, 0, 0, 0, 0],\n",
       "       [0, 0, 0, 0, 0, 0],\n",
       "       [0, 0, 0, 0, 0, 0]], dtype=uint8)"
      ]
     },
     "execution_count": 295,
     "metadata": {},
     "output_type": "execute_result"
    }
   ],
   "source": [
    "clf.predict(x_encoded)"
   ]
  }
 ],
 "metadata": {
  "kernelspec": {
   "display_name": "Python 3 (ipykernel)",
   "language": "python",
   "name": "python3"
  },
  "language_info": {
   "codemirror_mode": {
    "name": "ipython",
    "version": 3
   },
   "file_extension": ".py",
   "mimetype": "text/x-python",
   "name": "python",
   "nbconvert_exporter": "python",
   "pygments_lexer": "ipython3",
   "version": "3.10.6"
  }
 },
 "nbformat": 4,
 "nbformat_minor": 5
}
